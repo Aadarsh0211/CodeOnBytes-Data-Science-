{
 "cells": [
  {
   "cell_type": "markdown",
   "id": "08aeea8c",
   "metadata": {},
   "source": [
    "# Phase 1 & 2 project of Codes on Bytes"
   ]
  },
  {
   "cell_type": "markdown",
   "id": "04e3e328",
   "metadata": {},
   "source": [
    "# Phase 1"
   ]
  },
  {
   "cell_type": "markdown",
   "id": "26c24b3e",
   "metadata": {},
   "source": [
    "## First importing all the required libaries"
   ]
  },
  {
   "cell_type": "code",
   "execution_count": 1,
   "id": "c2651dfb",
   "metadata": {},
   "outputs": [],
   "source": [
    "import numpy as np\n",
    "import pandas as pd\n",
    "import matplotlib.pyplot as plt\n",
    "import seaborn as sns\n",
    "import warnings \n",
    "warnings.filterwarnings('ignore')"
   ]
  },
  {
   "cell_type": "code",
   "execution_count": 2,
   "id": "2b05def3",
   "metadata": {},
   "outputs": [
    {
     "data": {
      "text/html": [
       "<div>\n",
       "<style scoped>\n",
       "    .dataframe tbody tr th:only-of-type {\n",
       "        vertical-align: middle;\n",
       "    }\n",
       "\n",
       "    .dataframe tbody tr th {\n",
       "        vertical-align: top;\n",
       "    }\n",
       "\n",
       "    .dataframe thead th {\n",
       "        text-align: right;\n",
       "    }\n",
       "</style>\n",
       "<table border=\"1\" class=\"dataframe\">\n",
       "  <thead>\n",
       "    <tr style=\"text-align: right;\">\n",
       "      <th></th>\n",
       "      <th>show_id</th>\n",
       "      <th>type</th>\n",
       "      <th>title</th>\n",
       "      <th>director</th>\n",
       "      <th>country</th>\n",
       "      <th>date_added</th>\n",
       "      <th>release_year</th>\n",
       "      <th>rating</th>\n",
       "      <th>duration</th>\n",
       "      <th>listed_in</th>\n",
       "    </tr>\n",
       "  </thead>\n",
       "  <tbody>\n",
       "    <tr>\n",
       "      <th>0</th>\n",
       "      <td>s1</td>\n",
       "      <td>Movie</td>\n",
       "      <td>Dick Johnson Is Dead</td>\n",
       "      <td>Kirsten Johnson</td>\n",
       "      <td>United States</td>\n",
       "      <td>9/25/2021</td>\n",
       "      <td>2020</td>\n",
       "      <td>PG-13</td>\n",
       "      <td>90 min</td>\n",
       "      <td>Documentaries</td>\n",
       "    </tr>\n",
       "    <tr>\n",
       "      <th>1</th>\n",
       "      <td>s3</td>\n",
       "      <td>TV Show</td>\n",
       "      <td>Ganglands</td>\n",
       "      <td>Julien Leclercq</td>\n",
       "      <td>France</td>\n",
       "      <td>9/24/2021</td>\n",
       "      <td>2021</td>\n",
       "      <td>TV-MA</td>\n",
       "      <td>1 Season</td>\n",
       "      <td>Crime TV Shows, International TV Shows, TV Act...</td>\n",
       "    </tr>\n",
       "    <tr>\n",
       "      <th>2</th>\n",
       "      <td>s6</td>\n",
       "      <td>TV Show</td>\n",
       "      <td>Midnight Mass</td>\n",
       "      <td>Mike Flanagan</td>\n",
       "      <td>United States</td>\n",
       "      <td>9/24/2021</td>\n",
       "      <td>2021</td>\n",
       "      <td>TV-MA</td>\n",
       "      <td>1 Season</td>\n",
       "      <td>TV Dramas, TV Horror, TV Mysteries</td>\n",
       "    </tr>\n",
       "    <tr>\n",
       "      <th>3</th>\n",
       "      <td>s14</td>\n",
       "      <td>Movie</td>\n",
       "      <td>Confessions of an Invisible Girl</td>\n",
       "      <td>Bruno Garotti</td>\n",
       "      <td>Brazil</td>\n",
       "      <td>9/22/2021</td>\n",
       "      <td>2021</td>\n",
       "      <td>TV-PG</td>\n",
       "      <td>91 min</td>\n",
       "      <td>Children &amp; Family Movies, Comedies</td>\n",
       "    </tr>\n",
       "    <tr>\n",
       "      <th>4</th>\n",
       "      <td>s8</td>\n",
       "      <td>Movie</td>\n",
       "      <td>Sankofa</td>\n",
       "      <td>Haile Gerima</td>\n",
       "      <td>United States</td>\n",
       "      <td>9/24/2021</td>\n",
       "      <td>1993</td>\n",
       "      <td>TV-MA</td>\n",
       "      <td>125 min</td>\n",
       "      <td>Dramas, Independent Movies, International Movies</td>\n",
       "    </tr>\n",
       "    <tr>\n",
       "      <th>...</th>\n",
       "      <td>...</td>\n",
       "      <td>...</td>\n",
       "      <td>...</td>\n",
       "      <td>...</td>\n",
       "      <td>...</td>\n",
       "      <td>...</td>\n",
       "      <td>...</td>\n",
       "      <td>...</td>\n",
       "      <td>...</td>\n",
       "      <td>...</td>\n",
       "    </tr>\n",
       "    <tr>\n",
       "      <th>8785</th>\n",
       "      <td>s8797</td>\n",
       "      <td>TV Show</td>\n",
       "      <td>Yunus Emre</td>\n",
       "      <td>Not Given</td>\n",
       "      <td>Turkey</td>\n",
       "      <td>1/17/2017</td>\n",
       "      <td>2016</td>\n",
       "      <td>TV-PG</td>\n",
       "      <td>2 Seasons</td>\n",
       "      <td>International TV Shows, TV Dramas</td>\n",
       "    </tr>\n",
       "    <tr>\n",
       "      <th>8786</th>\n",
       "      <td>s8798</td>\n",
       "      <td>TV Show</td>\n",
       "      <td>Zak Storm</td>\n",
       "      <td>Not Given</td>\n",
       "      <td>United States</td>\n",
       "      <td>9/13/2018</td>\n",
       "      <td>2016</td>\n",
       "      <td>TV-Y7</td>\n",
       "      <td>3 Seasons</td>\n",
       "      <td>Kids' TV</td>\n",
       "    </tr>\n",
       "    <tr>\n",
       "      <th>8787</th>\n",
       "      <td>s8801</td>\n",
       "      <td>TV Show</td>\n",
       "      <td>Zindagi Gulzar Hai</td>\n",
       "      <td>Not Given</td>\n",
       "      <td>Pakistan</td>\n",
       "      <td>12/15/2016</td>\n",
       "      <td>2012</td>\n",
       "      <td>TV-PG</td>\n",
       "      <td>1 Season</td>\n",
       "      <td>International TV Shows, Romantic TV Shows, TV ...</td>\n",
       "    </tr>\n",
       "    <tr>\n",
       "      <th>8788</th>\n",
       "      <td>s8784</td>\n",
       "      <td>TV Show</td>\n",
       "      <td>Yoko</td>\n",
       "      <td>Not Given</td>\n",
       "      <td>Pakistan</td>\n",
       "      <td>6/23/2018</td>\n",
       "      <td>2016</td>\n",
       "      <td>TV-Y</td>\n",
       "      <td>1 Season</td>\n",
       "      <td>Kids' TV</td>\n",
       "    </tr>\n",
       "    <tr>\n",
       "      <th>8789</th>\n",
       "      <td>s8786</td>\n",
       "      <td>TV Show</td>\n",
       "      <td>YOM</td>\n",
       "      <td>Not Given</td>\n",
       "      <td>Pakistan</td>\n",
       "      <td>6/7/2018</td>\n",
       "      <td>2016</td>\n",
       "      <td>TV-Y7</td>\n",
       "      <td>1 Season</td>\n",
       "      <td>Kids' TV</td>\n",
       "    </tr>\n",
       "  </tbody>\n",
       "</table>\n",
       "<p>8790 rows × 10 columns</p>\n",
       "</div>"
      ],
      "text/plain": [
       "     show_id     type                             title         director  \\\n",
       "0         s1    Movie              Dick Johnson Is Dead  Kirsten Johnson   \n",
       "1         s3  TV Show                         Ganglands  Julien Leclercq   \n",
       "2         s6  TV Show                     Midnight Mass    Mike Flanagan   \n",
       "3        s14    Movie  Confessions of an Invisible Girl    Bruno Garotti   \n",
       "4         s8    Movie                           Sankofa     Haile Gerima   \n",
       "...      ...      ...                               ...              ...   \n",
       "8785   s8797  TV Show                        Yunus Emre        Not Given   \n",
       "8786   s8798  TV Show                         Zak Storm        Not Given   \n",
       "8787   s8801  TV Show                Zindagi Gulzar Hai        Not Given   \n",
       "8788   s8784  TV Show                              Yoko        Not Given   \n",
       "8789   s8786  TV Show                               YOM        Not Given   \n",
       "\n",
       "            country  date_added  release_year rating   duration  \\\n",
       "0     United States   9/25/2021          2020  PG-13     90 min   \n",
       "1            France   9/24/2021          2021  TV-MA   1 Season   \n",
       "2     United States   9/24/2021          2021  TV-MA   1 Season   \n",
       "3            Brazil   9/22/2021          2021  TV-PG     91 min   \n",
       "4     United States   9/24/2021          1993  TV-MA    125 min   \n",
       "...             ...         ...           ...    ...        ...   \n",
       "8785         Turkey   1/17/2017          2016  TV-PG  2 Seasons   \n",
       "8786  United States   9/13/2018          2016  TV-Y7  3 Seasons   \n",
       "8787       Pakistan  12/15/2016          2012  TV-PG   1 Season   \n",
       "8788       Pakistan   6/23/2018          2016   TV-Y   1 Season   \n",
       "8789       Pakistan    6/7/2018          2016  TV-Y7   1 Season   \n",
       "\n",
       "                                              listed_in  \n",
       "0                                         Documentaries  \n",
       "1     Crime TV Shows, International TV Shows, TV Act...  \n",
       "2                    TV Dramas, TV Horror, TV Mysteries  \n",
       "3                    Children & Family Movies, Comedies  \n",
       "4      Dramas, Independent Movies, International Movies  \n",
       "...                                                 ...  \n",
       "8785                  International TV Shows, TV Dramas  \n",
       "8786                                           Kids' TV  \n",
       "8787  International TV Shows, Romantic TV Shows, TV ...  \n",
       "8788                                           Kids' TV  \n",
       "8789                                           Kids' TV  \n",
       "\n",
       "[8790 rows x 10 columns]"
      ]
     },
     "execution_count": 2,
     "metadata": {},
     "output_type": "execute_result"
    }
   ],
   "source": [
    "data = pd.read_csv('dataset - netflix1.csv')\n",
    "data"
   ]
  },
  {
   "cell_type": "code",
   "execution_count": 3,
   "id": "1cf749bf",
   "metadata": {},
   "outputs": [
    {
     "data": {
      "text/plain": [
       "(8790, 10)"
      ]
     },
     "execution_count": 3,
     "metadata": {},
     "output_type": "execute_result"
    }
   ],
   "source": [
    "data.shape"
   ]
  },
  {
   "cell_type": "markdown",
   "id": "1b0f3bcd",
   "metadata": {},
   "source": [
    "## Checking information of our dataset"
   ]
  },
  {
   "cell_type": "code",
   "execution_count": 4,
   "id": "2f98563c",
   "metadata": {},
   "outputs": [
    {
     "name": "stdout",
     "output_type": "stream",
     "text": [
      "<class 'pandas.core.frame.DataFrame'>\n",
      "RangeIndex: 8790 entries, 0 to 8789\n",
      "Data columns (total 10 columns):\n",
      " #   Column        Non-Null Count  Dtype \n",
      "---  ------        --------------  ----- \n",
      " 0   show_id       8790 non-null   object\n",
      " 1   type          8790 non-null   object\n",
      " 2   title         8790 non-null   object\n",
      " 3   director      8790 non-null   object\n",
      " 4   country       8790 non-null   object\n",
      " 5   date_added    8790 non-null   object\n",
      " 6   release_year  8790 non-null   int64 \n",
      " 7   rating        8790 non-null   object\n",
      " 8   duration      8790 non-null   object\n",
      " 9   listed_in     8790 non-null   object\n",
      "dtypes: int64(1), object(9)\n",
      "memory usage: 686.8+ KB\n"
     ]
    }
   ],
   "source": [
    "data.info()"
   ]
  },
  {
   "cell_type": "markdown",
   "id": "766bb56f",
   "metadata": {},
   "source": [
    "## Checking statistical summary of our data"
   ]
  },
  {
   "cell_type": "code",
   "execution_count": 5,
   "id": "90c42fda",
   "metadata": {},
   "outputs": [
    {
     "data": {
      "text/html": [
       "<div>\n",
       "<style scoped>\n",
       "    .dataframe tbody tr th:only-of-type {\n",
       "        vertical-align: middle;\n",
       "    }\n",
       "\n",
       "    .dataframe tbody tr th {\n",
       "        vertical-align: top;\n",
       "    }\n",
       "\n",
       "    .dataframe thead th {\n",
       "        text-align: right;\n",
       "    }\n",
       "</style>\n",
       "<table border=\"1\" class=\"dataframe\">\n",
       "  <thead>\n",
       "    <tr style=\"text-align: right;\">\n",
       "      <th></th>\n",
       "      <th>release_year</th>\n",
       "    </tr>\n",
       "  </thead>\n",
       "  <tbody>\n",
       "    <tr>\n",
       "      <th>count</th>\n",
       "      <td>8790.000000</td>\n",
       "    </tr>\n",
       "    <tr>\n",
       "      <th>mean</th>\n",
       "      <td>2014.183163</td>\n",
       "    </tr>\n",
       "    <tr>\n",
       "      <th>std</th>\n",
       "      <td>8.825466</td>\n",
       "    </tr>\n",
       "    <tr>\n",
       "      <th>min</th>\n",
       "      <td>1925.000000</td>\n",
       "    </tr>\n",
       "    <tr>\n",
       "      <th>25%</th>\n",
       "      <td>2013.000000</td>\n",
       "    </tr>\n",
       "    <tr>\n",
       "      <th>50%</th>\n",
       "      <td>2017.000000</td>\n",
       "    </tr>\n",
       "    <tr>\n",
       "      <th>75%</th>\n",
       "      <td>2019.000000</td>\n",
       "    </tr>\n",
       "    <tr>\n",
       "      <th>max</th>\n",
       "      <td>2021.000000</td>\n",
       "    </tr>\n",
       "  </tbody>\n",
       "</table>\n",
       "</div>"
      ],
      "text/plain": [
       "       release_year\n",
       "count   8790.000000\n",
       "mean    2014.183163\n",
       "std        8.825466\n",
       "min     1925.000000\n",
       "25%     2013.000000\n",
       "50%     2017.000000\n",
       "75%     2019.000000\n",
       "max     2021.000000"
      ]
     },
     "execution_count": 5,
     "metadata": {},
     "output_type": "execute_result"
    }
   ],
   "source": [
    "data.describe()"
   ]
  },
  {
   "cell_type": "markdown",
   "id": "7ecf89a4",
   "metadata": {},
   "source": [
    "## Checking all columns datatypes"
   ]
  },
  {
   "cell_type": "code",
   "execution_count": 6,
   "id": "6e30260c",
   "metadata": {},
   "outputs": [
    {
     "data": {
      "text/plain": [
       "show_id         object\n",
       "type            object\n",
       "title           object\n",
       "director        object\n",
       "country         object\n",
       "date_added      object\n",
       "release_year     int64\n",
       "rating          object\n",
       "duration        object\n",
       "listed_in       object\n",
       "dtype: object"
      ]
     },
     "execution_count": 6,
     "metadata": {},
     "output_type": "execute_result"
    }
   ],
   "source": [
    "data.dtypes"
   ]
  },
  {
   "cell_type": "markdown",
   "id": "88967f79",
   "metadata": {},
   "source": [
    "- Here we found that the column named date_added is showing the datatype as object but should be in date format."
   ]
  },
  {
   "cell_type": "markdown",
   "id": "ac9c70c5",
   "metadata": {},
   "source": [
    "## Checking null values"
   ]
  },
  {
   "cell_type": "code",
   "execution_count": 7,
   "id": "13ecb16e",
   "metadata": {},
   "outputs": [
    {
     "data": {
      "text/plain": [
       "show_id         0\n",
       "type            0\n",
       "title           0\n",
       "director        0\n",
       "country         0\n",
       "date_added      0\n",
       "release_year    0\n",
       "rating          0\n",
       "duration        0\n",
       "listed_in       0\n",
       "dtype: int64"
      ]
     },
     "execution_count": 7,
     "metadata": {},
     "output_type": "execute_result"
    }
   ],
   "source": [
    "data.isnull().sum()"
   ]
  },
  {
   "cell_type": "markdown",
   "id": "b1878ab3",
   "metadata": {},
   "source": [
    "## Checking if any duplicate rows"
   ]
  },
  {
   "cell_type": "code",
   "execution_count": 8,
   "id": "a3cccf73",
   "metadata": {},
   "outputs": [
    {
     "data": {
      "text/html": [
       "<div>\n",
       "<style scoped>\n",
       "    .dataframe tbody tr th:only-of-type {\n",
       "        vertical-align: middle;\n",
       "    }\n",
       "\n",
       "    .dataframe tbody tr th {\n",
       "        vertical-align: top;\n",
       "    }\n",
       "\n",
       "    .dataframe thead th {\n",
       "        text-align: right;\n",
       "    }\n",
       "</style>\n",
       "<table border=\"1\" class=\"dataframe\">\n",
       "  <thead>\n",
       "    <tr style=\"text-align: right;\">\n",
       "      <th></th>\n",
       "      <th>show_id</th>\n",
       "      <th>type</th>\n",
       "      <th>title</th>\n",
       "      <th>director</th>\n",
       "      <th>country</th>\n",
       "      <th>date_added</th>\n",
       "      <th>release_year</th>\n",
       "      <th>rating</th>\n",
       "      <th>duration</th>\n",
       "      <th>listed_in</th>\n",
       "    </tr>\n",
       "  </thead>\n",
       "  <tbody>\n",
       "  </tbody>\n",
       "</table>\n",
       "</div>"
      ],
      "text/plain": [
       "Empty DataFrame\n",
       "Columns: [show_id, type, title, director, country, date_added, release_year, rating, duration, listed_in]\n",
       "Index: []"
      ]
     },
     "execution_count": 8,
     "metadata": {},
     "output_type": "execute_result"
    }
   ],
   "source": [
    "data[data.duplicated()]"
   ]
  },
  {
   "cell_type": "markdown",
   "id": "b5c4cf2d",
   "metadata": {},
   "source": [
    "-  So, it means that there are no duplicated and no null values present into our data."
   ]
  },
  {
   "cell_type": "markdown",
   "id": "2827a277",
   "metadata": {},
   "source": [
    "## Updating the date_added column datatype from object to datetime"
   ]
  },
  {
   "cell_type": "code",
   "execution_count": 9,
   "id": "37cc2cd9",
   "metadata": {},
   "outputs": [],
   "source": [
    "data['date_added']= pd.to_datetime(data['date_added'])"
   ]
  },
  {
   "cell_type": "code",
   "execution_count": 10,
   "id": "80b8d654",
   "metadata": {},
   "outputs": [
    {
     "data": {
      "text/plain": [
       "show_id                 object\n",
       "type                    object\n",
       "title                   object\n",
       "director                object\n",
       "country                 object\n",
       "date_added      datetime64[ns]\n",
       "release_year             int64\n",
       "rating                  object\n",
       "duration                object\n",
       "listed_in               object\n",
       "dtype: object"
      ]
     },
     "execution_count": 10,
     "metadata": {},
     "output_type": "execute_result"
    }
   ],
   "source": [
    "data.dtypes"
   ]
  },
  {
   "cell_type": "markdown",
   "id": "e4a2fc69",
   "metadata": {},
   "source": [
    "- Now the respective column had been converted to datetime dtype"
   ]
  },
  {
   "cell_type": "markdown",
   "id": "732b20d6",
   "metadata": {},
   "source": [
    "## Checking of outliers using Z-score into our data"
   ]
  },
  {
   "cell_type": "code",
   "execution_count": 11,
   "id": "a913d266",
   "metadata": {},
   "outputs": [
    {
     "data": {
      "text/html": [
       "<div>\n",
       "<style scoped>\n",
       "    .dataframe tbody tr th:only-of-type {\n",
       "        vertical-align: middle;\n",
       "    }\n",
       "\n",
       "    .dataframe tbody tr th {\n",
       "        vertical-align: top;\n",
       "    }\n",
       "\n",
       "    .dataframe thead th {\n",
       "        text-align: right;\n",
       "    }\n",
       "</style>\n",
       "<table border=\"1\" class=\"dataframe\">\n",
       "  <thead>\n",
       "    <tr style=\"text-align: right;\">\n",
       "      <th></th>\n",
       "      <th>release_year</th>\n",
       "    </tr>\n",
       "  </thead>\n",
       "  <tbody>\n",
       "    <tr>\n",
       "      <th>count</th>\n",
       "      <td>8790.000000</td>\n",
       "    </tr>\n",
       "    <tr>\n",
       "      <th>mean</th>\n",
       "      <td>2014.183163</td>\n",
       "    </tr>\n",
       "    <tr>\n",
       "      <th>std</th>\n",
       "      <td>8.825466</td>\n",
       "    </tr>\n",
       "    <tr>\n",
       "      <th>min</th>\n",
       "      <td>1925.000000</td>\n",
       "    </tr>\n",
       "    <tr>\n",
       "      <th>25%</th>\n",
       "      <td>2013.000000</td>\n",
       "    </tr>\n",
       "    <tr>\n",
       "      <th>50%</th>\n",
       "      <td>2017.000000</td>\n",
       "    </tr>\n",
       "    <tr>\n",
       "      <th>75%</th>\n",
       "      <td>2019.000000</td>\n",
       "    </tr>\n",
       "    <tr>\n",
       "      <th>max</th>\n",
       "      <td>2021.000000</td>\n",
       "    </tr>\n",
       "  </tbody>\n",
       "</table>\n",
       "</div>"
      ],
      "text/plain": [
       "       release_year\n",
       "count   8790.000000\n",
       "mean    2014.183163\n",
       "std        8.825466\n",
       "min     1925.000000\n",
       "25%     2013.000000\n",
       "50%     2017.000000\n",
       "75%     2019.000000\n",
       "max     2021.000000"
      ]
     },
     "execution_count": 11,
     "metadata": {},
     "output_type": "execute_result"
    }
   ],
   "source": [
    "data.describe()"
   ]
  },
  {
   "cell_type": "code",
   "execution_count": 12,
   "id": "553e17a0",
   "metadata": {},
   "outputs": [
    {
     "data": {
      "text/plain": [
       "(2013.0, 2019.0)"
      ]
     },
     "execution_count": 12,
     "metadata": {},
     "output_type": "execute_result"
    }
   ],
   "source": [
    "Q1 = data['release_year'].quantile(0.25)\n",
    "Q3 = data['release_year'].quantile(0.75)\n",
    "Q1,Q3"
   ]
  },
  {
   "cell_type": "code",
   "execution_count": 13,
   "id": "b655c389",
   "metadata": {},
   "outputs": [
    {
     "data": {
      "text/plain": [
       "6.0"
      ]
     },
     "execution_count": 13,
     "metadata": {},
     "output_type": "execute_result"
    }
   ],
   "source": [
    "IQR = Q3 - Q1\n",
    "IQR"
   ]
  },
  {
   "cell_type": "code",
   "execution_count": 14,
   "id": "2c99b1ec",
   "metadata": {},
   "outputs": [
    {
     "data": {
      "text/plain": [
       "(2004.0, 2028.0)"
      ]
     },
     "execution_count": 14,
     "metadata": {},
     "output_type": "execute_result"
    }
   ],
   "source": [
    "lower_limit = Q1-1.5*IQR\n",
    "upper_limit = Q3+1.5*IQR\n",
    "lower_limit,upper_limit"
   ]
  },
  {
   "cell_type": "code",
   "execution_count": 15,
   "id": "2381cbe1",
   "metadata": {},
   "outputs": [
    {
     "data": {
      "text/html": [
       "<div>\n",
       "<style scoped>\n",
       "    .dataframe tbody tr th:only-of-type {\n",
       "        vertical-align: middle;\n",
       "    }\n",
       "\n",
       "    .dataframe tbody tr th {\n",
       "        vertical-align: top;\n",
       "    }\n",
       "\n",
       "    .dataframe thead th {\n",
       "        text-align: right;\n",
       "    }\n",
       "</style>\n",
       "<table border=\"1\" class=\"dataframe\">\n",
       "  <thead>\n",
       "    <tr style=\"text-align: right;\">\n",
       "      <th></th>\n",
       "      <th>show_id</th>\n",
       "      <th>type</th>\n",
       "      <th>title</th>\n",
       "      <th>director</th>\n",
       "      <th>country</th>\n",
       "      <th>date_added</th>\n",
       "      <th>release_year</th>\n",
       "      <th>rating</th>\n",
       "      <th>duration</th>\n",
       "      <th>listed_in</th>\n",
       "    </tr>\n",
       "  </thead>\n",
       "  <tbody>\n",
       "    <tr>\n",
       "      <th>4</th>\n",
       "      <td>s8</td>\n",
       "      <td>Movie</td>\n",
       "      <td>Sankofa</td>\n",
       "      <td>Haile Gerima</td>\n",
       "      <td>United States</td>\n",
       "      <td>2021-09-24</td>\n",
       "      <td>1993</td>\n",
       "      <td>TV-MA</td>\n",
       "      <td>125 min</td>\n",
       "      <td>Dramas, Independent Movies, International Movies</td>\n",
       "    </tr>\n",
       "    <tr>\n",
       "      <th>29</th>\n",
       "      <td>s25</td>\n",
       "      <td>Movie</td>\n",
       "      <td>Jeans</td>\n",
       "      <td>S. Shankar</td>\n",
       "      <td>India</td>\n",
       "      <td>2021-09-21</td>\n",
       "      <td>1998</td>\n",
       "      <td>TV-14</td>\n",
       "      <td>166 min</td>\n",
       "      <td>Comedies, International Movies, Romantic Movies</td>\n",
       "    </tr>\n",
       "    <tr>\n",
       "      <th>51</th>\n",
       "      <td>s27</td>\n",
       "      <td>Movie</td>\n",
       "      <td>Minsara Kanavu</td>\n",
       "      <td>Rajiv Menon</td>\n",
       "      <td>India</td>\n",
       "      <td>2021-09-21</td>\n",
       "      <td>1997</td>\n",
       "      <td>TV-PG</td>\n",
       "      <td>147 min</td>\n",
       "      <td>Comedies, International Movies, Music &amp; Musicals</td>\n",
       "    </tr>\n",
       "    <tr>\n",
       "      <th>53</th>\n",
       "      <td>s23</td>\n",
       "      <td>Movie</td>\n",
       "      <td>Avvai Shanmughi</td>\n",
       "      <td>K.S. Ravikumar</td>\n",
       "      <td>Not Given</td>\n",
       "      <td>2021-09-21</td>\n",
       "      <td>1996</td>\n",
       "      <td>TV-PG</td>\n",
       "      <td>161 min</td>\n",
       "      <td>Comedies, International Movies</td>\n",
       "    </tr>\n",
       "    <tr>\n",
       "      <th>60</th>\n",
       "      <td>s42</td>\n",
       "      <td>Movie</td>\n",
       "      <td>Jaws</td>\n",
       "      <td>Steven Spielberg</td>\n",
       "      <td>United States</td>\n",
       "      <td>2021-09-16</td>\n",
       "      <td>1975</td>\n",
       "      <td>PG</td>\n",
       "      <td>124 min</td>\n",
       "      <td>Action &amp; Adventure, Classic Movies, Dramas</td>\n",
       "    </tr>\n",
       "    <tr>\n",
       "      <th>...</th>\n",
       "      <td>...</td>\n",
       "      <td>...</td>\n",
       "      <td>...</td>\n",
       "      <td>...</td>\n",
       "      <td>...</td>\n",
       "      <td>...</td>\n",
       "      <td>...</td>\n",
       "      <td>...</td>\n",
       "      <td>...</td>\n",
       "      <td>...</td>\n",
       "    </tr>\n",
       "    <tr>\n",
       "      <th>8702</th>\n",
       "      <td>s8232</td>\n",
       "      <td>Movie</td>\n",
       "      <td>The Bund</td>\n",
       "      <td>Not Given</td>\n",
       "      <td>Hong Kong</td>\n",
       "      <td>2018-09-20</td>\n",
       "      <td>1983</td>\n",
       "      <td>TV-14</td>\n",
       "      <td>103 min</td>\n",
       "      <td>Action &amp; Adventure, Dramas, International Movies</td>\n",
       "    </tr>\n",
       "    <tr>\n",
       "      <th>8743</th>\n",
       "      <td>s8524</td>\n",
       "      <td>TV Show</td>\n",
       "      <td>The Super Mario Bros. Super Show!</td>\n",
       "      <td>Not Given</td>\n",
       "      <td>United States</td>\n",
       "      <td>2016-05-22</td>\n",
       "      <td>1989</td>\n",
       "      <td>TV-Y7</td>\n",
       "      <td>1 Season</td>\n",
       "      <td>Kids' TV</td>\n",
       "    </tr>\n",
       "    <tr>\n",
       "      <th>8746</th>\n",
       "      <td>s8542</td>\n",
       "      <td>TV Show</td>\n",
       "      <td>The Twilight Zone (Original Series)</td>\n",
       "      <td>Not Given</td>\n",
       "      <td>United States</td>\n",
       "      <td>2017-07-01</td>\n",
       "      <td>1963</td>\n",
       "      <td>TV-14</td>\n",
       "      <td>4 Seasons</td>\n",
       "      <td>Classic &amp; Cult TV, TV Sci-Fi &amp; Fantasy</td>\n",
       "    </tr>\n",
       "    <tr>\n",
       "      <th>8761</th>\n",
       "      <td>s8645</td>\n",
       "      <td>TV Show</td>\n",
       "      <td>Twin Peaks</td>\n",
       "      <td>Not Given</td>\n",
       "      <td>United States</td>\n",
       "      <td>2017-07-01</td>\n",
       "      <td>1990</td>\n",
       "      <td>TV-14</td>\n",
       "      <td>2 Seasons</td>\n",
       "      <td>Classic &amp; Cult TV, Crime TV Shows, TV Dramas</td>\n",
       "    </tr>\n",
       "    <tr>\n",
       "      <th>8765</th>\n",
       "      <td>s8670</td>\n",
       "      <td>TV Show</td>\n",
       "      <td>V.R. Troopers</td>\n",
       "      <td>Not Given</td>\n",
       "      <td>United States</td>\n",
       "      <td>2016-01-01</td>\n",
       "      <td>1995</td>\n",
       "      <td>TV-G</td>\n",
       "      <td>2 Seasons</td>\n",
       "      <td>Kids' TV</td>\n",
       "    </tr>\n",
       "  </tbody>\n",
       "</table>\n",
       "<p>717 rows × 10 columns</p>\n",
       "</div>"
      ],
      "text/plain": [
       "     show_id     type                                title          director  \\\n",
       "4         s8    Movie                              Sankofa      Haile Gerima   \n",
       "29       s25    Movie                                Jeans        S. Shankar   \n",
       "51       s27    Movie                       Minsara Kanavu       Rajiv Menon   \n",
       "53       s23    Movie                      Avvai Shanmughi    K.S. Ravikumar   \n",
       "60       s42    Movie                                 Jaws  Steven Spielberg   \n",
       "...      ...      ...                                  ...               ...   \n",
       "8702   s8232    Movie                             The Bund         Not Given   \n",
       "8743   s8524  TV Show    The Super Mario Bros. Super Show!         Not Given   \n",
       "8746   s8542  TV Show  The Twilight Zone (Original Series)         Not Given   \n",
       "8761   s8645  TV Show                           Twin Peaks         Not Given   \n",
       "8765   s8670  TV Show                        V.R. Troopers         Not Given   \n",
       "\n",
       "            country date_added  release_year rating   duration  \\\n",
       "4     United States 2021-09-24          1993  TV-MA    125 min   \n",
       "29            India 2021-09-21          1998  TV-14    166 min   \n",
       "51            India 2021-09-21          1997  TV-PG    147 min   \n",
       "53        Not Given 2021-09-21          1996  TV-PG    161 min   \n",
       "60    United States 2021-09-16          1975     PG    124 min   \n",
       "...             ...        ...           ...    ...        ...   \n",
       "8702      Hong Kong 2018-09-20          1983  TV-14    103 min   \n",
       "8743  United States 2016-05-22          1989  TV-Y7   1 Season   \n",
       "8746  United States 2017-07-01          1963  TV-14  4 Seasons   \n",
       "8761  United States 2017-07-01          1990  TV-14  2 Seasons   \n",
       "8765  United States 2016-01-01          1995   TV-G  2 Seasons   \n",
       "\n",
       "                                             listed_in  \n",
       "4     Dramas, Independent Movies, International Movies  \n",
       "29     Comedies, International Movies, Romantic Movies  \n",
       "51    Comedies, International Movies, Music & Musicals  \n",
       "53                      Comedies, International Movies  \n",
       "60          Action & Adventure, Classic Movies, Dramas  \n",
       "...                                                ...  \n",
       "8702  Action & Adventure, Dramas, International Movies  \n",
       "8743                                          Kids' TV  \n",
       "8746            Classic & Cult TV, TV Sci-Fi & Fantasy  \n",
       "8761      Classic & Cult TV, Crime TV Shows, TV Dramas  \n",
       "8765                                          Kids' TV  \n",
       "\n",
       "[717 rows x 10 columns]"
      ]
     },
     "execution_count": 15,
     "metadata": {},
     "output_type": "execute_result"
    }
   ],
   "source": [
    "data[(data.release_year<lower_limit)| (data.release_year>upper_limit)]"
   ]
  },
  {
   "cell_type": "markdown",
   "id": "31dded5b",
   "metadata": {},
   "source": [
    "## Outlier detection using boxplot"
   ]
  },
  {
   "cell_type": "code",
   "execution_count": 16,
   "id": "fe11f9e4",
   "metadata": {},
   "outputs": [
    {
     "data": {
      "image/png": "[encoded data removed]",
      "text/plain": [
       "<Figure size 576x432 with 1 Axes>"
      ]
     },
     "metadata": {
      "needs_background": "light"
     },
     "output_type": "display_data"
    }
   ],
   "source": [
    "plt.figure(figsize=(8, 6))\n",
    "sns.boxplot(data['release_year'])\n",
    "plt.xlabel('Release Year')\n",
    "plt.ylabel('Values')\n",
    "plt.title('Boxplot of Release Year with Outliers')\n",
    "plt.show()"
   ]
  },
  {
   "cell_type": "code",
   "execution_count": 17,
   "id": "bd1543e9",
   "metadata": {},
   "outputs": [
    {
     "data": {
      "image/png": "[encoded data removed]",
      "text/plain": [
       "<Figure size 576x432 with 1 Axes>"
      ]
     },
     "metadata": {
      "needs_background": "light"
     },
     "output_type": "display_data"
    }
   ],
   "source": [
    "plt.figure(figsize=(8, 6))\n",
    "sns.distplot(data['release_year'])\n",
    "plt.show()"
   ]
  },
  {
   "cell_type": "markdown",
   "id": "a139ed29",
   "metadata": {},
   "source": [
    "- Here we can clearly see that our data is left skewed and not in a normal distribution"
   ]
  },
  {
   "cell_type": "markdown",
   "id": "12f888ac",
   "metadata": {},
   "source": [
    "## Removal of outliers"
   ]
  },
  {
   "cell_type": "code",
   "execution_count": 18,
   "id": "b7e84628",
   "metadata": {},
   "outputs": [
    {
     "data": {
      "text/html": [
       "<div>\n",
       "<style scoped>\n",
       "    .dataframe tbody tr th:only-of-type {\n",
       "        vertical-align: middle;\n",
       "    }\n",
       "\n",
       "    .dataframe tbody tr th {\n",
       "        vertical-align: top;\n",
       "    }\n",
       "\n",
       "    .dataframe thead th {\n",
       "        text-align: right;\n",
       "    }\n",
       "</style>\n",
       "<table border=\"1\" class=\"dataframe\">\n",
       "  <thead>\n",
       "    <tr style=\"text-align: right;\">\n",
       "      <th></th>\n",
       "      <th>show_id</th>\n",
       "      <th>type</th>\n",
       "      <th>title</th>\n",
       "      <th>director</th>\n",
       "      <th>country</th>\n",
       "      <th>date_added</th>\n",
       "      <th>release_year</th>\n",
       "      <th>rating</th>\n",
       "      <th>duration</th>\n",
       "      <th>listed_in</th>\n",
       "    </tr>\n",
       "  </thead>\n",
       "  <tbody>\n",
       "    <tr>\n",
       "      <th>0</th>\n",
       "      <td>s1</td>\n",
       "      <td>Movie</td>\n",
       "      <td>Dick Johnson Is Dead</td>\n",
       "      <td>Kirsten Johnson</td>\n",
       "      <td>United States</td>\n",
       "      <td>2021-09-25</td>\n",
       "      <td>2020</td>\n",
       "      <td>PG-13</td>\n",
       "      <td>90 min</td>\n",
       "      <td>Documentaries</td>\n",
       "    </tr>\n",
       "    <tr>\n",
       "      <th>1</th>\n",
       "      <td>s3</td>\n",
       "      <td>TV Show</td>\n",
       "      <td>Ganglands</td>\n",
       "      <td>Julien Leclercq</td>\n",
       "      <td>France</td>\n",
       "      <td>2021-09-24</td>\n",
       "      <td>2021</td>\n",
       "      <td>TV-MA</td>\n",
       "      <td>1 Season</td>\n",
       "      <td>Crime TV Shows, International TV Shows, TV Act...</td>\n",
       "    </tr>\n",
       "    <tr>\n",
       "      <th>2</th>\n",
       "      <td>s6</td>\n",
       "      <td>TV Show</td>\n",
       "      <td>Midnight Mass</td>\n",
       "      <td>Mike Flanagan</td>\n",
       "      <td>United States</td>\n",
       "      <td>2021-09-24</td>\n",
       "      <td>2021</td>\n",
       "      <td>TV-MA</td>\n",
       "      <td>1 Season</td>\n",
       "      <td>TV Dramas, TV Horror, TV Mysteries</td>\n",
       "    </tr>\n",
       "    <tr>\n",
       "      <th>3</th>\n",
       "      <td>s14</td>\n",
       "      <td>Movie</td>\n",
       "      <td>Confessions of an Invisible Girl</td>\n",
       "      <td>Bruno Garotti</td>\n",
       "      <td>Brazil</td>\n",
       "      <td>2021-09-22</td>\n",
       "      <td>2021</td>\n",
       "      <td>TV-PG</td>\n",
       "      <td>91 min</td>\n",
       "      <td>Children &amp; Family Movies, Comedies</td>\n",
       "    </tr>\n",
       "    <tr>\n",
       "      <th>5</th>\n",
       "      <td>s9</td>\n",
       "      <td>TV Show</td>\n",
       "      <td>The Great British Baking Show</td>\n",
       "      <td>Andy Devonshire</td>\n",
       "      <td>United Kingdom</td>\n",
       "      <td>2021-09-24</td>\n",
       "      <td>2021</td>\n",
       "      <td>TV-14</td>\n",
       "      <td>9 Seasons</td>\n",
       "      <td>British TV Shows, Reality TV</td>\n",
       "    </tr>\n",
       "    <tr>\n",
       "      <th>...</th>\n",
       "      <td>...</td>\n",
       "      <td>...</td>\n",
       "      <td>...</td>\n",
       "      <td>...</td>\n",
       "      <td>...</td>\n",
       "      <td>...</td>\n",
       "      <td>...</td>\n",
       "      <td>...</td>\n",
       "      <td>...</td>\n",
       "      <td>...</td>\n",
       "    </tr>\n",
       "    <tr>\n",
       "      <th>8785</th>\n",
       "      <td>s8797</td>\n",
       "      <td>TV Show</td>\n",
       "      <td>Yunus Emre</td>\n",
       "      <td>Not Given</td>\n",
       "      <td>Turkey</td>\n",
       "      <td>2017-01-17</td>\n",
       "      <td>2016</td>\n",
       "      <td>TV-PG</td>\n",
       "      <td>2 Seasons</td>\n",
       "      <td>International TV Shows, TV Dramas</td>\n",
       "    </tr>\n",
       "    <tr>\n",
       "      <th>8786</th>\n",
       "      <td>s8798</td>\n",
       "      <td>TV Show</td>\n",
       "      <td>Zak Storm</td>\n",
       "      <td>Not Given</td>\n",
       "      <td>United States</td>\n",
       "      <td>2018-09-13</td>\n",
       "      <td>2016</td>\n",
       "      <td>TV-Y7</td>\n",
       "      <td>3 Seasons</td>\n",
       "      <td>Kids' TV</td>\n",
       "    </tr>\n",
       "    <tr>\n",
       "      <th>8787</th>\n",
       "      <td>s8801</td>\n",
       "      <td>TV Show</td>\n",
       "      <td>Zindagi Gulzar Hai</td>\n",
       "      <td>Not Given</td>\n",
       "      <td>Pakistan</td>\n",
       "      <td>2016-12-15</td>\n",
       "      <td>2012</td>\n",
       "      <td>TV-PG</td>\n",
       "      <td>1 Season</td>\n",
       "      <td>International TV Shows, Romantic TV Shows, TV ...</td>\n",
       "    </tr>\n",
       "    <tr>\n",
       "      <th>8788</th>\n",
       "      <td>s8784</td>\n",
       "      <td>TV Show</td>\n",
       "      <td>Yoko</td>\n",
       "      <td>Not Given</td>\n",
       "      <td>Pakistan</td>\n",
       "      <td>2018-06-23</td>\n",
       "      <td>2016</td>\n",
       "      <td>TV-Y</td>\n",
       "      <td>1 Season</td>\n",
       "      <td>Kids' TV</td>\n",
       "    </tr>\n",
       "    <tr>\n",
       "      <th>8789</th>\n",
       "      <td>s8786</td>\n",
       "      <td>TV Show</td>\n",
       "      <td>YOM</td>\n",
       "      <td>Not Given</td>\n",
       "      <td>Pakistan</td>\n",
       "      <td>2018-06-07</td>\n",
       "      <td>2016</td>\n",
       "      <td>TV-Y7</td>\n",
       "      <td>1 Season</td>\n",
       "      <td>Kids' TV</td>\n",
       "    </tr>\n",
       "  </tbody>\n",
       "</table>\n",
       "<p>8009 rows × 10 columns</p>\n",
       "</div>"
      ],
      "text/plain": [
       "     show_id     type                             title         director  \\\n",
       "0         s1    Movie              Dick Johnson Is Dead  Kirsten Johnson   \n",
       "1         s3  TV Show                         Ganglands  Julien Leclercq   \n",
       "2         s6  TV Show                     Midnight Mass    Mike Flanagan   \n",
       "3        s14    Movie  Confessions of an Invisible Girl    Bruno Garotti   \n",
       "5         s9  TV Show     The Great British Baking Show  Andy Devonshire   \n",
       "...      ...      ...                               ...              ...   \n",
       "8785   s8797  TV Show                        Yunus Emre        Not Given   \n",
       "8786   s8798  TV Show                         Zak Storm        Not Given   \n",
       "8787   s8801  TV Show                Zindagi Gulzar Hai        Not Given   \n",
       "8788   s8784  TV Show                              Yoko        Not Given   \n",
       "8789   s8786  TV Show                               YOM        Not Given   \n",
       "\n",
       "             country date_added  release_year rating   duration  \\\n",
       "0      United States 2021-09-25          2020  PG-13     90 min   \n",
       "1             France 2021-09-24          2021  TV-MA   1 Season   \n",
       "2      United States 2021-09-24          2021  TV-MA   1 Season   \n",
       "3             Brazil 2021-09-22          2021  TV-PG     91 min   \n",
       "5     United Kingdom 2021-09-24          2021  TV-14  9 Seasons   \n",
       "...              ...        ...           ...    ...        ...   \n",
       "8785          Turkey 2017-01-17          2016  TV-PG  2 Seasons   \n",
       "8786   United States 2018-09-13          2016  TV-Y7  3 Seasons   \n",
       "8787        Pakistan 2016-12-15          2012  TV-PG   1 Season   \n",
       "8788        Pakistan 2018-06-23          2016   TV-Y   1 Season   \n",
       "8789        Pakistan 2018-06-07          2016  TV-Y7   1 Season   \n",
       "\n",
       "                                              listed_in  \n",
       "0                                         Documentaries  \n",
       "1     Crime TV Shows, International TV Shows, TV Act...  \n",
       "2                    TV Dramas, TV Horror, TV Mysteries  \n",
       "3                    Children & Family Movies, Comedies  \n",
       "5                          British TV Shows, Reality TV  \n",
       "...                                                 ...  \n",
       "8785                  International TV Shows, TV Dramas  \n",
       "8786                                           Kids' TV  \n",
       "8787  International TV Shows, Romantic TV Shows, TV ...  \n",
       "8788                                           Kids' TV  \n",
       "8789                                           Kids' TV  \n",
       "\n",
       "[8009 rows x 10 columns]"
      ]
     },
     "execution_count": 18,
     "metadata": {},
     "output_type": "execute_result"
    }
   ],
   "source": [
    "data_1 = data[(data.release_year>lower_limit) & (data.release_year<upper_limit)]\n",
    "data_1"
   ]
  },
  {
   "cell_type": "markdown",
   "id": "617496a8",
   "metadata": {},
   "source": [
    "- Now all the outliers which were present into our release_year column are removed from our data."
   ]
  },
  {
   "cell_type": "markdown",
   "id": "27004a46",
   "metadata": {},
   "source": [
    "# Phase 2 Project"
   ]
  },
  {
   "cell_type": "markdown",
   "id": "783221d1",
   "metadata": {},
   "source": [
    "# Visualization and Analysis"
   ]
  },
  {
   "cell_type": "markdown",
   "id": "19238f66",
   "metadata": {},
   "source": [
    "## Visualizing the distribution of release years"
   ]
  },
  {
   "cell_type": "code",
   "execution_count": 19,
   "id": "db2faf77",
   "metadata": {},
   "outputs": [
    {
     "data": {
      "image/png": "[encoded data removed]",
      "text/plain": [
       "<Figure size 864x432 with 1 Axes>"
      ]
     },
     "metadata": {
      "needs_background": "light"
     },
     "output_type": "display_data"
    }
   ],
   "source": [
    "plt.figure(figsize=(12, 6))\n",
    "ax=sns.histplot(data_1['release_year'], bins=30,kde=True)\n",
    "\n",
    "ax.bar_label(ax.containers[0], fmt='%d', label_type='center') \n",
    "\n",
    "plt.title('Distribution of Release Years on Netflix')\n",
    "plt.xlabel('Release Year')\n",
    "plt.ylabel('Count')\n",
    "plt.show()"
   ]
  },
  {
   "cell_type": "markdown",
   "id": "0ec8770c",
   "metadata": {},
   "source": [
    "- Interpretation: The majority of content on Netflix was released in recent years, indicating a focus on more recent content.\n"
   ]
  },
  {
   "cell_type": "markdown",
   "id": "63b4c43b",
   "metadata": {},
   "source": [
    "## Visualizing the distribution of ratings"
   ]
  },
  {
   "cell_type": "code",
   "execution_count": 20,
   "id": "874815bc",
   "metadata": {},
   "outputs": [
    {
     "data": {
      "image/png": "[encoded data removed]",
      "text/plain": [
       "<Figure size 720x432 with 1 Axes>"
      ]
     },
     "metadata": {
      "needs_background": "light"
     },
     "output_type": "display_data"
    }
   ],
   "source": [
    "plt.figure(figsize=(10, 6))\n",
    "ax = sns.countplot(x='rating', data=data_1, order=data_1['rating'].value_counts().index,  palette='deep')\n",
    "\n",
    "ax.bar_label(ax.containers[0], fmt='%d', label_type='center') \n",
    "\n",
    "plt.title('Distribution of Ratings on Netflix')\n",
    "plt.xlabel('Rating')\n",
    "plt.ylabel('Count')\n",
    "plt.show()"
   ]
  },
  {
   "cell_type": "markdown",
   "id": "1cd26232",
   "metadata": {},
   "source": [
    "- Interpretation: Most content on Netflix has a rating of 'TV-MA' and 'TV-14', suggesting that the platform may have a diverse range of audience preferences."
   ]
  },
  {
   "cell_type": "markdown",
   "id": "4624f78b",
   "metadata": {},
   "source": [
    "## Visualizing the number of movies and TV shows"
   ]
  },
  {
   "cell_type": "code",
   "execution_count": 21,
   "id": "439c5233",
   "metadata": {},
   "outputs": [
    {
     "data": {
      "image/png": "[encoded data removed]",
      "text/plain": [
       "<Figure size 576x432 with 1 Axes>"
      ]
     },
     "metadata": {
      "needs_background": "light"
     },
     "output_type": "display_data"
    }
   ],
   "source": [
    "plt.figure(figsize=(8, 6))\n",
    "ax = sns.countplot( x='type',data=data_1, palette='Set2')\n",
    "\n",
    "ax.bar_label(ax.containers[0], fmt='%d', label_type='center')  # Add data labels to the countplot\n",
    "\n",
    "plt.title('Number of Movies and TV Shows in Netflix')\n",
    "plt.xlabel('Type')\n",
    "plt.ylabel('Count')\n",
    "plt.show()"
   ]
  },
  {
   "cell_type": "markdown",
   "id": "b19fe7b9",
   "metadata": {},
   "source": [
    " - Interpretation: Netflix has a higher number of movies compared to TV shows, indicating a larger collection of movies on the platform."
   ]
  },
  {
   "cell_type": "markdown",
   "id": "0435efe5",
   "metadata": {},
   "source": [
    "# Visualizing Countrywise"
   ]
  },
  {
   "cell_type": "code",
   "execution_count": 22,
   "id": "8744dd25",
   "metadata": {},
   "outputs": [
    {
     "data": {
      "text/plain": [
       "United States     2838\n",
       "India              918\n",
       "United Kingdom     591\n",
       "Pakistan           414\n",
       "Name: country, dtype: int64"
      ]
     },
     "execution_count": 22,
     "metadata": {},
     "output_type": "execute_result"
    }
   ],
   "source": [
    "data_1['country'].value_counts().head(4)"
   ]
  },
  {
   "cell_type": "code",
   "execution_count": 23,
   "id": "75986cfe",
   "metadata": {},
   "outputs": [
    {
     "data": {
      "image/png": "[encoded data removed]",
      "text/plain": [
       "<Figure size 1296x432 with 1 Axes>"
      ]
     },
     "metadata": {
      "needs_background": "light"
     },
     "output_type": "display_data"
    }
   ],
   "source": [
    "plt.figure(figsize=(18, 6))\n",
    "ax=sns.countplot(data = data_1, x='country', order=data_1['country'].value_counts().index[0:4], palette='husl' )\n",
    "\n",
    "ax.bar_label(ax.containers[0], fmt='%d', label_type='center') \n",
    "\n",
    "plt.title('Distribution country wise on Netflix')\n",
    "plt.xlabel('Countries')\n",
    "plt.ylabel('Count')\n",
    "plt.show()"
   ]
  },
  {
   "cell_type": "markdown",
   "id": "4f5ae29a",
   "metadata": {},
   "source": [
    "- Interpretation: USA is the leading country in the content type on Netflix. "
   ]
  },
  {
   "cell_type": "markdown",
   "id": "05dee92b",
   "metadata": {},
   "source": [
    "## Visualizing the distribution of TV show seasons"
   ]
  },
  {
   "cell_type": "code",
   "execution_count": 24,
   "id": "5e9022b1",
   "metadata": {},
   "outputs": [
    {
     "data": {
      "image/png": "[encoded data removed]",
      "text/plain": [
       "<Figure size 1296x432 with 1 Axes>"
      ]
     },
     "metadata": {
      "needs_background": "light"
     },
     "output_type": "display_data"
    }
   ],
   "source": [
    "plt.figure(figsize=(18, 6))\n",
    "ax=sns.countplot(x='duration', data=data_1[data_1['type'] == 'TV Show'],  palette='Set3')\n",
    "\n",
    "ax.bar_label(ax.containers[0], fmt='%d', label_type='center') \n",
    "\n",
    "plt.title('Distribution of TV Show Seasons on Netflix')\n",
    "plt.xlabel('Number of Seasons')\n",
    "plt.ylabel('Count')\n",
    "plt.show()"
   ]
  },
  {
   "cell_type": "markdown",
   "id": "cc1fcd65",
   "metadata": {},
   "source": [
    "- Interpretation: TV shows on Netflix typically have a few seasons, with a peak around 1 to 3 seasons. There are fewer TV shows with a higher number of seasons."
   ]
  },
  {
   "cell_type": "markdown",
   "id": "26117654",
   "metadata": {},
   "source": [
    "# Final Insights"
   ]
  },
  {
   "cell_type": "markdown",
   "id": "ce9608a3",
   "metadata": {},
   "source": [
    "- Interpretation: The majority of content on Netflix was released in recent years, indicating a focus on more recent content."
   ]
  },
  {
   "cell_type": "markdown",
   "id": "d009cf79",
   "metadata": {},
   "source": [
    "- Interpretation: Most content on Netflix has a rating of 'TV-MA' and 'TV-14', suggesting that the platform may have a diverse range of audience preferences."
   ]
  },
  {
   "cell_type": "markdown",
   "id": "ed316abc",
   "metadata": {},
   "source": [
    "- Interpretation: Netflix has a higher number of movies compared to TV shows, indicating a larger collection of movies on the platform."
   ]
  },
  {
   "cell_type": "markdown",
   "id": "7a1937b6",
   "metadata": {},
   "source": [
    "- Interpretation: USA is the leading country in the content type on Netflix."
   ]
  },
  {
   "cell_type": "markdown",
   "id": "e2753115",
   "metadata": {},
   "source": [
    "- Interpretation: TV shows on Netflix typically have a few seasons, with a peak around 1 to 3 seasons. Generally there are fewer TV shows with a higher number of seasons."
   ]
  },
  {
   "cell_type": "markdown",
   "id": "c0d6a6d0",
   "metadata": {},
   "source": [
    "# ML modelling"
   ]
  },
  {
   "cell_type": "markdown",
   "id": "ad5caa25",
   "metadata": {},
   "source": [
    "## Dataset Loading"
   ]
  },
  {
   "cell_type": "code",
   "execution_count": 25,
   "id": "f5c2f79b",
   "metadata": {},
   "outputs": [
    {
     "name": "stdout",
     "output_type": "stream",
     "text": [
      "     Unnamed: 0 Unnamed: 1   Unnamed: 2\n",
      "0             1          x            y\n",
      "1             2         24  21.54945196\n",
      "2             3         50  47.46446305\n",
      "3             4         15  17.21865634\n",
      "4             5         38  36.58639803\n",
      "..          ...        ...          ...\n",
      "696         697         58  58.59500642\n",
      "697         698         93  94.62509374\n",
      "698         699         82  88.60376995\n",
      "699         700         66  63.64868529\n",
      "700         701         97   94.9752655\n",
      "\n",
      "[701 rows x 3 columns]\n"
     ]
    }
   ],
   "source": [
    "html_url = 'file:///C:/Users/Aadarsh/Desktop/Codes%20on%20bytes/train%20dataset%20-%20Google%20Drive.html'\n",
    "tables = pd.read_html(html_url)\n",
    "df = tables[0]\n",
    "print(df)"
   ]
  },
  {
   "cell_type": "markdown",
   "id": "82b7abcf",
   "metadata": {},
   "source": [
    "## Removing first row as headers"
   ]
  },
  {
   "cell_type": "code",
   "execution_count": 26,
   "id": "b1855053",
   "metadata": {},
   "outputs": [
    {
     "name": "stdout",
     "output_type": "stream",
     "text": [
      "       1     x          y\n",
      "0      2  24.0  21.549452\n",
      "1      3  50.0  47.464463\n",
      "2      4  15.0  17.218656\n",
      "3      5  38.0  36.586398\n",
      "4      6  87.0  87.288984\n",
      "..   ...   ...        ...\n",
      "695  697  58.0  58.595006\n",
      "696  698  93.0  94.625094\n",
      "697  699  82.0  88.603770\n",
      "698  700  66.0  63.648685\n",
      "699  701  97.0  94.975266\n",
      "\n",
      "[700 rows x 3 columns]\n"
     ]
    }
   ],
   "source": [
    "html_file = 'file:///C:/Users/Aadarsh/Desktop/Codes%20on%20bytes/train%20dataset%20-%20Google%20Drive.html'\n",
    "tables = pd.read_html(html_file, skiprows=1, header=0)\n",
    "df = tables[0]\n",
    "print(df)"
   ]
  },
  {
   "cell_type": "markdown",
   "id": "b516a65f",
   "metadata": {},
   "source": [
    "## Train dataset Loading"
   ]
  },
  {
   "cell_type": "code",
   "execution_count": 27,
   "id": "a2638d4a",
   "metadata": {},
   "outputs": [
    {
     "name": "stdout",
     "output_type": "stream",
     "text": [
      "     Unnamed: 0 Unnamed: 1   Unnamed: 2\n",
      "0             1          x            y\n",
      "1             2         77  79.77515201\n",
      "2             3         21  23.17727887\n",
      "3             4         22  25.60926156\n",
      "4             5         20  17.85738813\n",
      "..          ...        ...          ...\n",
      "296         297         71   68.5458879\n",
      "297         298         46  47.33487629\n",
      "298         299         55  54.09063686\n",
      "299         300         62  63.29717058\n",
      "300         301         47  52.45946688\n",
      "\n",
      "[301 rows x 3 columns]\n"
     ]
    }
   ],
   "source": [
    "html_url = 'file:///C:/Users/Aadarsh/Desktop/Codes%20on%20bytes/test%20dataset%20-%20Google%20Drive.html'\n",
    "tables = pd.read_html(html_url)\n",
    "df1 = tables[0]\n",
    "print(df1)"
   ]
  },
  {
   "cell_type": "markdown",
   "id": "018119ef",
   "metadata": {},
   "source": [
    "## Removing first row as headers"
   ]
  },
  {
   "cell_type": "code",
   "execution_count": 28,
   "id": "0b8074eb",
   "metadata": {},
   "outputs": [
    {
     "name": "stdout",
     "output_type": "stream",
     "text": [
      "       1   x          y\n",
      "0      2  77  79.775152\n",
      "1      3  21  23.177279\n",
      "2      4  22  25.609262\n",
      "3      5  20  17.857388\n",
      "4      6  36  41.849864\n",
      "..   ...  ..        ...\n",
      "295  297  71  68.545888\n",
      "296  298  46  47.334876\n",
      "297  299  55  54.090637\n",
      "298  300  62  63.297171\n",
      "299  301  47  52.459467\n",
      "\n",
      "[300 rows x 3 columns]\n"
     ]
    }
   ],
   "source": [
    "html_file = 'file:///C:/Users/Aadarsh/Desktop/Codes%20on%20bytes/test%20dataset%20-%20Google%20Drive.html'\n",
    "tables = pd.read_html(html_file, skiprows=1, header=0)\n",
    "df1 = tables[0]\n",
    "print(df1)"
   ]
  },
  {
   "cell_type": "code",
   "execution_count": 29,
   "id": "82912406",
   "metadata": {},
   "outputs": [
    {
     "data": {
      "text/plain": [
       "array([[  2.        ,  24.        ,  21.54945196],\n",
       "       [  3.        ,  50.        ,  47.46446305],\n",
       "       [  4.        ,  15.        ,  17.21865634],\n",
       "       ...,\n",
       "       [699.        ,  82.        ,  88.60376995],\n",
       "       [700.        ,  66.        ,  63.64868529],\n",
       "       [701.        ,  97.        ,  94.9752655 ]])"
      ]
     },
     "execution_count": 29,
     "metadata": {},
     "output_type": "execute_result"
    }
   ],
   "source": [
    "X=df.values\n",
    "X"
   ]
  },
  {
   "cell_type": "code",
   "execution_count": 30,
   "id": "65f858e6",
   "metadata": {},
   "outputs": [
    {
     "data": {
      "text/plain": [
       "array([[ 2.00000000e+00,  7.70000000e+01,  7.97751520e+01],\n",
       "       [ 3.00000000e+00,  2.10000000e+01,  2.31772789e+01],\n",
       "       [ 4.00000000e+00,  2.20000000e+01,  2.56092616e+01],\n",
       "       [ 5.00000000e+00,  2.00000000e+01,  1.78573881e+01],\n",
       "       [ 6.00000000e+00,  3.60000000e+01,  4.18498644e+01],\n",
       "       [ 7.00000000e+00,  1.50000000e+01,  9.80523488e+00],\n",
       "       [ 8.00000000e+00,  6.20000000e+01,  5.88746593e+01],\n",
       "       [ 9.00000000e+00,  9.50000000e+01,  9.76179370e+01],\n",
       "       [ 1.00000000e+01,  2.00000000e+01,  1.83951275e+01],\n",
       "       [ 1.10000000e+01,  5.00000000e+00,  8.74674765e+00],\n",
       "       [ 1.20000000e+01,  4.00000000e+00,  2.81141583e+00],\n",
       "       [ 1.30000000e+01,  1.90000000e+01,  1.70953724e+01],\n",
       "       [ 1.40000000e+01,  9.60000000e+01,  9.51490718e+01],\n",
       "       [ 1.50000000e+01,  6.20000000e+01,  6.13880066e+01],\n",
       "       [ 1.60000000e+01,  3.60000000e+01,  4.02470172e+01],\n",
       "       [ 1.70000000e+01,  1.50000000e+01,  1.48224859e+01],\n",
       "       [ 1.80000000e+01,  6.50000000e+01,  6.69580687e+01],\n",
       "       [ 1.90000000e+01,  1.40000000e+01,  1.66350798e+01],\n",
       "       [ 2.00000000e+01,  8.70000000e+01,  9.06551374e+01],\n",
       "       [ 2.10000000e+01,  6.90000000e+01,  7.72298264e+01],\n",
       "       [ 2.20000000e+01,  8.90000000e+01,  9.21190628e+01],\n",
       "       [ 2.30000000e+01,  5.10000000e+01,  4.69138771e+01],\n",
       "       [ 2.40000000e+01,  8.90000000e+01,  8.98263444e+01],\n",
       "       [ 2.50000000e+01,  2.70000000e+01,  2.17138035e+01],\n",
       "       [ 2.60000000e+01,  9.70000000e+01,  9.74120698e+01],\n",
       "       [ 2.70000000e+01,  5.80000000e+01,  5.70163136e+01],\n",
       "       [ 2.80000000e+01,  7.90000000e+01,  7.83105654e+01],\n",
       "       [ 2.90000000e+01,  2.10000000e+01,  1.91315097e+01],\n",
       "       [ 3.00000000e+01,  9.30000000e+01,  9.30348339e+01],\n",
       "       [ 3.10000000e+01,  2.70000000e+01,  2.65911240e+01],\n",
       "       [ 3.20000000e+01,  9.90000000e+01,  9.75515534e+01],\n",
       "       [ 3.30000000e+01,  3.10000000e+01,  3.14352482e+01],\n",
       "       [ 3.40000000e+01,  3.30000000e+01,  3.51272478e+01],\n",
       "       [ 3.50000000e+01,  8.00000000e+01,  7.86104243e+01],\n",
       "       [ 3.60000000e+01,  2.80000000e+01,  3.30711283e+01],\n",
       "       [ 3.70000000e+01,  4.70000000e+01,  5.16996717e+01],\n",
       "       [ 3.80000000e+01,  5.30000000e+01,  5.36223522e+01],\n",
       "       [ 3.90000000e+01,  6.90000000e+01,  6.94630607e+01],\n",
       "       [ 4.00000000e+01,  2.80000000e+01,  2.74249724e+01],\n",
       "       [ 4.10000000e+01,  3.30000000e+01,  3.63464419e+01],\n",
       "       [ 4.20000000e+01,  9.10000000e+01,  9.50614086e+01],\n",
       "       [ 4.30000000e+01,  7.10000000e+01,  6.81672476e+01],\n",
       "       [ 4.40000000e+01,  5.00000000e+01,  5.09615553e+01],\n",
       "       [ 4.50000000e+01,  7.60000000e+01,  7.80423745e+01],\n",
       "       [ 4.60000000e+01,  4.00000000e+00,  5.60766487e+00],\n",
       "       [ 4.70000000e+01,  3.70000000e+01,  3.61133478e+01],\n",
       "       [ 4.80000000e+01,  7.00000000e+01,  6.72352155e+01],\n",
       "       [ 4.90000000e+01,  6.80000000e+01,  6.50132404e+01],\n",
       "       [ 5.00000000e+01,  4.00000000e+01,  3.81475387e+01],\n",
       "       [ 5.10000000e+01,  3.50000000e+01,  3.43114145e+01],\n",
       "       [ 5.20000000e+01,  9.40000000e+01,  9.52850394e+01],\n",
       "       [ 5.30000000e+01,  8.80000000e+01,  8.78474991e+01],\n",
       "       [ 5.40000000e+01,  5.20000000e+01,  5.40817063e+01],\n",
       "       [ 5.50000000e+01,  3.10000000e+01,  3.19306352e+01],\n",
       "       [ 5.60000000e+01,  5.90000000e+01,  5.96124709e+01],\n",
       "       [ 5.70000000e+01,  0.00000000e+00, -1.04011421e+00],\n",
       "       [ 5.80000000e+01,  3.90000000e+01,  4.74937477e+01],\n",
       "       [ 5.90000000e+01,  6.40000000e+01,  6.26008977e+01],\n",
       "       [ 6.00000000e+01,  6.90000000e+01,  7.09146434e+01],\n",
       "       [ 6.10000000e+01,  5.70000000e+01,  5.61483411e+01],\n",
       "       [ 6.20000000e+01,  1.30000000e+01,  1.40557288e+01],\n",
       "       [ 6.30000000e+01,  7.20000000e+01,  6.81136715e+01],\n",
       "       [ 6.40000000e+01,  7.60000000e+01,  7.55970135e+01],\n",
       "       [ 6.50000000e+01,  6.10000000e+01,  5.92257450e+01],\n",
       "       [ 6.60000000e+01,  8.20000000e+01,  8.54550416e+01],\n",
       "       [ 6.70000000e+01,  1.80000000e+01,  1.77619712e+01],\n",
       "       [ 6.80000000e+01,  4.10000000e+01,  3.86888868e+01],\n",
       "       [ 6.90000000e+01,  5.00000000e+01,  5.09634364e+01],\n",
       "       [ 7.00000000e+01,  5.50000000e+01,  5.18350387e+01],\n",
       "       [ 7.10000000e+01,  1.30000000e+01,  1.70761107e+01],\n",
       "       [ 7.20000000e+01,  4.60000000e+01,  4.65614177e+01],\n",
       "       [ 7.30000000e+01,  1.30000000e+01,  1.03475446e+01],\n",
       "       [ 7.40000000e+01,  7.90000000e+01,  7.79103297e+01],\n",
       "       [ 7.50000000e+01,  5.30000000e+01,  5.01700862e+01],\n",
       "       [ 7.60000000e+01,  1.50000000e+01,  1.32569065e+01],\n",
       "       [ 7.70000000e+01,  2.80000000e+01,  3.13227493e+01],\n",
       "       [ 7.80000000e+01,  8.10000000e+01,  7.39308764e+01],\n",
       "       [ 7.90000000e+01,  6.90000000e+01,  7.44511438e+01],\n",
       "       [ 8.00000000e+01,  5.20000000e+01,  5.20193229e+01],\n",
       "       [ 8.10000000e+01,  8.40000000e+01,  8.36882050e+01],\n",
       "       [ 8.20000000e+01,  6.80000000e+01,  7.03698748e+01],\n",
       "       [ 8.30000000e+01,  2.70000000e+01,  2.34447916e+01],\n",
       "       [ 8.40000000e+01,  5.60000000e+01,  4.98305180e+01],\n",
       "       [ 8.50000000e+01,  4.80000000e+01,  4.98822659e+01],\n",
       "       [ 8.60000000e+01,  4.00000000e+01,  4.10452558e+01],\n",
       "       [ 8.70000000e+01,  3.90000000e+01,  3.33783439e+01],\n",
       "       [ 8.80000000e+01,  8.20000000e+01,  8.12975013e+01],\n",
       "       [ 8.90000000e+01,  1.00000000e+02,  1.05591837e+02],\n",
       "       [ 9.00000000e+01,  5.90000000e+01,  5.68245701e+01],\n",
       "       [ 9.10000000e+01,  4.30000000e+01,  4.86725264e+01],\n",
       "       [ 9.20000000e+01,  6.70000000e+01,  6.70215061e+01],\n",
       "       [ 9.30000000e+01,  3.80000000e+01,  3.84307639e+01],\n",
       "       [ 9.40000000e+01,  6.30000000e+01,  5.86146689e+01],\n",
       "       [ 9.50000000e+01,  9.10000000e+01,  8.91237751e+01],\n",
       "       [ 9.60000000e+01,  6.00000000e+01,  6.09105427e+01],\n",
       "       [ 9.70000000e+01,  1.40000000e+01,  1.38395988e+01],\n",
       "       [ 9.80000000e+01,  2.10000000e+01,  1.68908519e+01],\n",
       "       [ 9.90000000e+01,  8.70000000e+01,  8.40667682e+01],\n",
       "       [ 1.00000000e+02,  7.30000000e+01,  7.03496977e+01],\n",
       "       [ 1.01000000e+02,  3.20000000e+01,  3.33847414e+01],\n",
       "       [ 1.02000000e+02,  2.00000000e+00, -1.63296825e+00],\n",
       "       [ 1.03000000e+02,  8.20000000e+01,  8.85447590e+01],\n",
       "       [ 1.04000000e+02,  1.90000000e+01,  1.74404762e+01],\n",
       "       [ 1.05000000e+02,  7.40000000e+01,  7.56929855e+01],\n",
       "       [ 1.06000000e+02,  4.20000000e+01,  4.19760711e+01],\n",
       "       [ 1.07000000e+02,  1.20000000e+01,  1.25924474e+01],\n",
       "       [ 1.08000000e+02,  1.00000000e+00,  2.75307261e-01],\n",
       "       [ 1.09000000e+02,  9.00000000e+01,  9.81325801e+01],\n",
       "       [ 1.10000000e+02,  8.90000000e+01,  8.74572156e+01],\n",
       "       [ 1.11000000e+02,  0.00000000e+00, -2.34473854e+00],\n",
       "       [ 1.12000000e+02,  4.10000000e+01,  3.93294153e+01],\n",
       "       [ 1.13000000e+02,  1.60000000e+01,  1.66871521e+01],\n",
       "       [ 1.14000000e+02,  9.40000000e+01,  9.65888860e+01],\n",
       "       [ 1.15000000e+02,  9.70000000e+01,  9.77034220e+01],\n",
       "       [ 1.16000000e+02,  6.60000000e+01,  6.70171596e+01],\n",
       "       [ 1.17000000e+02,  2.40000000e+01,  2.56347626e+01],\n",
       "       [ 1.18000000e+02,  1.70000000e+01,  1.34131076e+01],\n",
       "       [ 1.19000000e+02,  9.00000000e+01,  9.51564728e+01],\n",
       "       [ 1.20000000e+02,  1.30000000e+01,  9.74416426e+00],\n",
       "       [ 1.21000000e+02,  0.00000000e+00, -3.46788379e+00],\n",
       "       [ 1.22000000e+02,  6.40000000e+01,  6.28281635e+01],\n",
       "       [ 1.23000000e+02,  9.60000000e+01,  9.72740546e+01],\n",
       "       [ 1.24000000e+02,  9.80000000e+01,  9.55801718e+01],\n",
       "       [ 1.25000000e+02,  1.20000000e+01,  7.46850184e+00],\n",
       "       [ 1.26000000e+02,  4.10000000e+01,  4.54459959e+01],\n",
       "       [ 1.27000000e+02,  4.70000000e+01,  4.66901397e+01],\n",
       "       [ 1.28000000e+02,  7.80000000e+01,  7.44993599e+01],\n",
       "       [ 1.29000000e+02,  2.00000000e+01,  2.16350065e+01],\n",
       "       [ 1.30000000e+02,  8.90000000e+01,  9.15954885e+01],\n",
       "       [ 1.31000000e+02,  2.90000000e+01,  2.64948796e+01],\n",
       "       [ 1.32000000e+02,  6.40000000e+01,  6.73865470e+01],\n",
       "       [ 1.33000000e+02,  7.50000000e+01,  7.42536284e+01],\n",
       "       [ 1.34000000e+02,  1.20000000e+01,  1.20799165e+01],\n",
       "       [ 1.35000000e+02,  2.50000000e+01,  2.13227373e+01],\n",
       "       [ 1.36000000e+02,  2.80000000e+01,  2.93177005e+01],\n",
       "       [ 1.37000000e+02,  3.00000000e+01,  2.64871368e+01],\n",
       "       [ 1.38000000e+02,  6.50000000e+01,  6.89469977e+01],\n",
       "       [ 1.39000000e+02,  5.90000000e+01,  5.91059900e+01],\n",
       "       [ 1.40000000e+02,  6.40000000e+01,  6.43752109e+01],\n",
       "       [ 1.41000000e+02,  5.30000000e+01,  6.02075835e+01],\n",
       "       [ 1.42000000e+02,  7.10000000e+01,  7.03432971e+01],\n",
       "       [ 1.43000000e+02,  9.70000000e+01,  9.71082562e+01],\n",
       "       [ 1.44000000e+02,  7.30000000e+01,  7.57584178e+01],\n",
       "       [ 1.45000000e+02,  9.00000000e+00,  1.08046273e+01],\n",
       "       [ 1.46000000e+02,  1.20000000e+01,  1.21121994e+01],\n",
       "       [ 1.47000000e+02,  6.30000000e+01,  6.32831238e+01],\n",
       "       [ 1.48000000e+02,  9.90000000e+01,  9.80301772e+01],\n",
       "       [ 1.49000000e+02,  6.00000000e+01,  6.31935435e+01],\n",
       "       [ 1.50000000e+02,  3.50000000e+01,  3.48534823e+01],\n",
       "       [ 1.51000000e+02,  2.00000000e+00, -2.81991397e+00],\n",
       "       [ 1.52000000e+02,  6.00000000e+01,  5.98313966e+01],\n",
       "       [ 1.53000000e+02,  3.20000000e+01,  2.93850502e+01],\n",
       "       [ 1.54000000e+02,  9.40000000e+01,  9.70014837e+01],\n",
       "       [ 1.55000000e+02,  8.40000000e+01,  8.51865727e+01],\n",
       "       [ 1.56000000e+02,  6.30000000e+01,  6.17406319e+01],\n",
       "       [ 1.57000000e+02,  2.20000000e+01,  1.88479816e+01],\n",
       "       [ 1.58000000e+02,  8.10000000e+01,  7.87900853e+01],\n",
       "       [ 1.59000000e+02,  9.30000000e+01,  9.51240048e+01],\n",
       "       [ 1.60000000e+02,  3.30000000e+01,  3.04888129e+01],\n",
       "       [ 1.61000000e+02,  7.00000000e+00,  1.04146809e+01],\n",
       "       [ 1.62000000e+02,  4.20000000e+01,  3.89831744e+01],\n",
       "       [ 1.63000000e+02,  4.60000000e+01,  4.61102106e+01],\n",
       "       [ 1.64000000e+02,  5.40000000e+01,  5.24510363e+01],\n",
       "       [ 1.65000000e+02,  1.60000000e+01,  2.11652395e+01],\n",
       "       [ 1.66000000e+02,  4.90000000e+01,  5.22862061e+01],\n",
       "       [ 1.67000000e+02,  4.30000000e+01,  4.41886394e+01],\n",
       "       [ 1.68000000e+02,  9.50000000e+01,  9.71383202e+01],\n",
       "       [ 1.69000000e+02,  6.60000000e+01,  6.72200800e+01],\n",
       "       [ 1.70000000e+02,  2.10000000e+01,  1.89832231e+01],\n",
       "       [ 1.71000000e+02,  3.50000000e+01,  2.43884599e+01],\n",
       "       [ 1.72000000e+02,  8.00000000e+01,  7.94476952e+01],\n",
       "       [ 1.73000000e+02,  3.70000000e+01,  4.00350486e+01],\n",
       "       [ 1.74000000e+02,  5.40000000e+01,  5.33200576e+01],\n",
       "       [ 1.75000000e+02,  5.60000000e+01,  5.45544698e+01],\n",
       "       [ 1.76000000e+02,  1.00000000e+00, -2.76118260e+00],\n",
       "       [ 1.77000000e+02,  3.20000000e+01,  3.78018280e+01],\n",
       "       [ 1.78000000e+02,  5.80000000e+01,  5.74874144e+01],\n",
       "       [ 1.79000000e+02,  3.20000000e+01,  3.60629299e+01],\n",
       "       [ 1.80000000e+02,  4.60000000e+01,  4.98353817e+01],\n",
       "       [ 1.81000000e+02,  7.20000000e+01,  7.46895328e+01],\n",
       "       [ 1.82000000e+02,  1.70000000e+01,  1.48615940e+01],\n",
       "       [ 1.83000000e+02,  9.70000000e+01,  1.01069788e+02],\n",
       "       [ 1.84000000e+02,  9.30000000e+01,  9.94357788e+01],\n",
       "       [ 1.85000000e+02,  9.10000000e+01,  9.16924075e+01],\n",
       "       [ 1.86000000e+02,  3.70000000e+01,  3.41247325e+01],\n",
       "       [ 1.87000000e+02,  4.00000000e+00,  6.07939007e+00],\n",
       "       [ 1.88000000e+02,  5.40000000e+01,  5.90724717e+01],\n",
       "       [ 1.89000000e+02,  5.10000000e+01,  5.64304602e+01],\n",
       "       [ 1.90000000e+02,  2.70000000e+01,  3.04941293e+01],\n",
       "       [ 1.91000000e+02,  4.60000000e+01,  4.83517263e+01],\n",
       "       [ 1.92000000e+02,  9.20000000e+01,  8.97315361e+01],\n",
       "       [ 1.93000000e+02,  7.30000000e+01,  7.28628253e+01],\n",
       "       [ 1.94000000e+02,  7.70000000e+01,  8.09714429e+01],\n",
       "       [ 1.95000000e+02,  9.10000000e+01,  9.13656637e+01],\n",
       "       [ 1.96000000e+02,  6.10000000e+01,  6.00713750e+01],\n",
       "       [ 1.97000000e+02,  9.90000000e+01,  9.98738271e+01],\n",
       "       [ 1.98000000e+02,  4.00000000e+00,  8.65571417e+00],\n",
       "       [ 1.99000000e+02,  7.20000000e+01,  6.93985850e+01],\n",
       "       [ 2.00000000e+02,  1.90000000e+01,  1.93878013e+01],\n",
       "       [ 2.01000000e+02,  5.70000000e+01,  5.31162843e+01],\n",
       "       [ 2.02000000e+02,  7.80000000e+01,  7.83968301e+01],\n",
       "       [ 2.03000000e+02,  2.60000000e+01,  2.57561251e+01],\n",
       "       [ 2.04000000e+02,  7.40000000e+01,  7.50748468e+01],\n",
       "       [ 2.05000000e+02,  9.00000000e+01,  9.28877228e+01],\n",
       "       [ 2.06000000e+02,  6.60000000e+01,  6.94549850e+01],\n",
       "       [ 2.07000000e+02,  1.30000000e+01,  1.31210984e+01],\n",
       "       [ 2.08000000e+02,  4.00000000e+01,  4.80984313e+01],\n",
       "       [ 2.09000000e+02,  7.70000000e+01,  7.93142548e+01],\n",
       "       [ 2.10000000e+02,  6.70000000e+01,  6.84882075e+01],\n",
       "       [ 2.11000000e+02,  7.50000000e+01,  7.32300846e+01],\n",
       "       [ 2.12000000e+02,  2.30000000e+01,  2.46836271e+01],\n",
       "       [ 2.13000000e+02,  4.50000000e+01,  4.19036892e+01],\n",
       "       [ 2.14000000e+02,  5.90000000e+01,  6.22263568e+01],\n",
       "       [ 2.15000000e+02,  4.40000000e+01,  4.59639688e+01],\n",
       "       [ 2.16000000e+02,  2.30000000e+01,  2.35264715e+01],\n",
       "       [ 2.17000000e+02,  5.50000000e+01,  5.18003587e+01],\n",
       "       [ 2.18000000e+02,  5.50000000e+01,  5.11077427e+01],\n",
       "       [ 2.19000000e+02,  9.50000000e+01,  9.57974734e+01],\n",
       "       [ 2.20000000e+02,  1.20000000e+01,  9.24113898e+00],\n",
       "       [ 2.21000000e+02,  4.00000000e+00,  7.64652976e+00],\n",
       "       [ 2.22000000e+02,  7.00000000e+00,  9.28169975e+00],\n",
       "       [ 2.23000000e+02,  1.00000000e+02,  1.03526616e+02],\n",
       "       [ 2.24000000e+02,  4.80000000e+01,  4.74100672e+01],\n",
       "       [ 2.25000000e+02,  4.20000000e+01,  4.20383577e+01],\n",
       "       [ 2.26000000e+02,  9.60000000e+01,  9.61198248e+01],\n",
       "       [ 2.27000000e+02,  3.90000000e+01,  3.80576641e+01],\n",
       "       [ 2.28000000e+02,  1.00000000e+02,  1.05450379e+02],\n",
       "       [ 2.29000000e+02,  8.70000000e+01,  8.88030691e+01],\n",
       "       [ 2.30000000e+02,  1.40000000e+01,  1.54930114e+01],\n",
       "       [ 2.31000000e+02,  1.40000000e+01,  1.24262461e+01],\n",
       "       [ 2.32000000e+02,  3.70000000e+01,  4.00070960e+01],\n",
       "       [ 2.33000000e+02,  5.00000000e+00,  5.63403090e+00],\n",
       "       [ 2.34000000e+02,  8.80000000e+01,  8.73693893e+01],\n",
       "       [ 2.35000000e+02,  9.10000000e+01,  8.97395199e+01],\n",
       "       [ 2.36000000e+02,  6.50000000e+01,  6.66149964e+01],\n",
       "       [ 2.37000000e+02,  7.40000000e+01,  7.29138853e+01],\n",
       "       [ 2.38000000e+02,  5.60000000e+01,  5.71910351e+01],\n",
       "       [ 2.39000000e+02,  1.60000000e+01,  1.12171048e+01],\n",
       "       [ 2.40000000e+02,  5.00000000e+00,  6.76076749e-01],\n",
       "       [ 2.41000000e+02,  2.80000000e+01,  2.81566854e+01],\n",
       "       [ 2.42000000e+02,  9.20000000e+01,  9.53958003e+01],\n",
       "       [ 2.43000000e+02,  4.60000000e+01,  5.20549070e+01],\n",
       "       [ 2.44000000e+02,  5.40000000e+01,  5.97086458e+01],\n",
       "       [ 2.45000000e+02,  3.90000000e+01,  3.67922476e+01],\n",
       "       [ 2.46000000e+02,  4.40000000e+01,  3.70845770e+01],\n",
       "       [ 2.47000000e+02,  3.10000000e+01,  2.41843798e+01],\n",
       "       [ 2.48000000e+02,  6.80000000e+01,  6.72872533e+01],\n",
       "       [ 2.49000000e+02,  8.60000000e+01,  8.28705940e+01],\n",
       "       [ 2.50000000e+02,  9.00000000e+01,  8.98999910e+01],\n",
       "       [ 2.51000000e+02,  3.80000000e+01,  3.69417318e+01],\n",
       "       [ 2.52000000e+02,  2.10000000e+01,  1.98756224e+01],\n",
       "       [ 2.53000000e+02,  9.50000000e+01,  9.07148165e+01],\n",
       "       [ 2.54000000e+02,  5.60000000e+01,  6.10936776e+01],\n",
       "       [ 2.55000000e+02,  6.00000000e+01,  6.01113496e+01],\n",
       "       [ 2.56000000e+02,  6.50000000e+01,  6.48329632e+01],\n",
       "       [ 2.57000000e+02,  7.80000000e+01,  8.14038177e+01],\n",
       "       [ 2.58000000e+02,  8.90000000e+01,  9.24021769e+01],\n",
       "       [ 2.59000000e+02,  6.00000000e+00,  2.57662538e+00],\n",
       "       [ 2.60000000e+02,  6.70000000e+01,  6.38076817e+01],\n",
       "       [ 2.61000000e+02,  3.60000000e+01,  3.86778076e+01],\n",
       "       [ 2.62000000e+02,  1.60000000e+01,  1.68283970e+01],\n",
       "       [ 2.63000000e+02,  1.00000000e+02,  9.97868725e+01],\n",
       "       [ 2.64000000e+02,  4.50000000e+01,  4.46891343e+01],\n",
       "       [ 2.65000000e+02,  7.30000000e+01,  7.10037782e+01],\n",
       "       [ 2.66000000e+02,  5.70000000e+01,  5.15732672e+01],\n",
       "       [ 2.67000000e+02,  2.00000000e+01,  1.98784648e+01],\n",
       "       [ 2.68000000e+02,  7.60000000e+01,  7.95034150e+01],\n",
       "       [ 2.69000000e+02,  3.40000000e+01,  3.45887649e+01],\n",
       "       [ 2.70000000e+02,  5.50000000e+01,  5.57383467e+01],\n",
       "       [ 2.71000000e+02,  7.20000000e+01,  6.81972191e+01],\n",
       "       [ 2.72000000e+02,  5.50000000e+01,  5.58162851e+01],\n",
       "       [ 2.73000000e+02,  8.00000000e+00,  9.39141680e+00],\n",
       "       [ 2.74000000e+02,  5.60000000e+01,  5.60144811e+01],\n",
       "       [ 2.75000000e+02,  7.20000000e+01,  7.79969477e+01],\n",
       "       [ 2.76000000e+02,  5.80000000e+01,  5.53704995e+01],\n",
       "       [ 2.77000000e+02,  6.00000000e+00,  1.18945783e+01],\n",
       "       [ 2.78000000e+02,  9.60000000e+01,  9.47908171e+01],\n",
       "       [ 2.79000000e+02,  2.30000000e+01,  2.56904155e+01],\n",
       "       [ 2.80000000e+02,  5.80000000e+01,  5.35204232e+01],\n",
       "       [ 2.81000000e+02,  2.30000000e+01,  1.83139676e+01],\n",
       "       [ 2.82000000e+02,  1.90000000e+01,  2.14263779e+01],\n",
       "       [ 2.83000000e+02,  2.50000000e+01,  3.04130328e+01],\n",
       "       [ 2.84000000e+02,  6.40000000e+01,  6.76814215e+01],\n",
       "       [ 2.85000000e+02,  2.10000000e+01,  1.70854783e+01],\n",
       "       [ 2.86000000e+02,  5.90000000e+01,  6.09179271e+01],\n",
       "       [ 2.87000000e+02,  1.90000000e+01,  1.49951432e+01],\n",
       "       [ 2.88000000e+02,  1.60000000e+01,  1.67492394e+01],\n",
       "       [ 2.89000000e+02,  4.20000000e+01,  4.14692388e+01],\n",
       "       [ 2.90000000e+02,  4.30000000e+01,  4.28452611e+01],\n",
       "       [ 2.91000000e+02,  6.10000000e+01,  5.91291297e+01],\n",
       "       [ 2.92000000e+02,  9.20000000e+01,  9.13086367e+01],\n",
       "       [ 2.93000000e+02,  1.10000000e+01,  8.67333636e+00],\n",
       "       [ 2.94000000e+02,  4.10000000e+01,  3.93148529e+01],\n",
       "       [ 2.95000000e+02,  1.00000000e+00,  5.31368620e+00],\n",
       "       [ 2.96000000e+02,  8.00000000e+00,  5.40522052e+00],\n",
       "       [ 2.97000000e+02,  7.10000000e+01,  6.85458879e+01],\n",
       "       [ 2.98000000e+02,  4.60000000e+01,  4.73348763e+01],\n",
       "       [ 2.99000000e+02,  5.50000000e+01,  5.40906369e+01],\n",
       "       [ 3.00000000e+02,  6.20000000e+01,  6.32971706e+01],\n",
       "       [ 3.01000000e+02,  4.70000000e+01,  5.24594669e+01]])"
      ]
     },
     "execution_count": 30,
     "metadata": {},
     "output_type": "execute_result"
    }
   ],
   "source": [
    "y=df1.values\n",
    "y"
   ]
  },
  {
   "cell_type": "markdown",
   "id": "972a08eb",
   "metadata": {},
   "source": [
    "## Splitting the data"
   ]
  },
  {
   "cell_type": "code",
   "execution_count": 32,
   "id": "1eaf83cf",
   "metadata": {},
   "outputs": [],
   "source": [
    "from sklearn.model_selection import train_test_split\n",
    "X_train, X_test, y_train, y_test = train_test_split(X, y, test_size=0.20, random_state=0)"
   ]
  },
  {
   "cell_type": "markdown",
   "id": "dc89e95d",
   "metadata": {},
   "source": [
    "# Linear Regression"
   ]
  },
  {
   "cell_type": "code",
   "execution_count": 33,
   "id": "9c29cdc1",
   "metadata": {},
   "outputs": [],
   "source": [
    "from sklearn.linear_model import LinearRegression"
   ]
  },
  {
   "cell_type": "code",
   "execution_count": 34,
   "id": "28b72b4b",
   "metadata": {},
   "outputs": [],
   "source": [
    "lr = LinearRegression()"
   ]
  },
  {
   "cell_type": "code",
   "execution_count": 35,
   "id": "4b29cfc9",
   "metadata": {},
   "outputs": [
    {
     "data": {
      "text/html": [
       "<style>#sk-container-id-1 {color: black;}#sk-container-id-1 pre{padding: 0;}#sk-container-id-1 div.sk-toggleable {background-color: white;}#sk-container-id-1 label.sk-toggleable__label {cursor: pointer;display: block;width: 100%;margin-bottom: 0;padding: 0.3em;box-sizing: border-box;text-align: center;}#sk-container-id-1 label.sk-toggleable__label-arrow:before {content: \"▸\";float: left;margin-right: 0.25em;color: #696969;}#sk-container-id-1 label.sk-toggleable__label-arrow:hover:before {color: black;}#sk-container-id-1 div.sk-estimator:hover label.sk-toggleable__label-arrow:before {color: black;}#sk-container-id-1 div.sk-toggleable__content {max-height: 0;max-width: 0;overflow: hidden;text-align: left;background-color: #f0f8ff;}#sk-container-id-1 div.sk-toggleable__content pre {margin: 0.2em;color: black;border-radius: 0.25em;background-color: #f0f8ff;}#sk-container-id-1 input.sk-toggleable__control:checked~div.sk-toggleable__content {max-height: 200px;max-width: 100%;overflow: auto;}#sk-container-id-1 input.sk-toggleable__control:checked~label.sk-toggleable__label-arrow:before {content: \"▾\";}#sk-container-id-1 div.sk-estimator input.sk-toggleable__control:checked~label.sk-toggleable__label {background-color: #d4ebff;}#sk-container-id-1 div.sk-label input.sk-toggleable__control:checked~label.sk-toggleable__label {background-color: #d4ebff;}#sk-container-id-1 input.sk-hidden--visually {border: 0;clip: rect(1px 1px 1px 1px);clip: rect(1px, 1px, 1px, 1px);height: 1px;margin: -1px;overflow: hidden;padding: 0;position: absolute;width: 1px;}#sk-container-id-1 div.sk-estimator {font-family: monospace;background-color: #f0f8ff;border: 1px dotted black;border-radius: 0.25em;box-sizing: border-box;margin-bottom: 0.5em;}#sk-container-id-1 div.sk-estimator:hover {background-color: #d4ebff;}#sk-container-id-1 div.sk-parallel-item::after {content: \"\";width: 100%;border-bottom: 1px solid gray;flex-grow: 1;}#sk-container-id-1 div.sk-label:hover label.sk-toggleable__label {background-color: #d4ebff;}#sk-container-id-1 div.sk-serial::before {content: \"\";position: absolute;border-left: 1px solid gray;box-sizing: border-box;top: 0;bottom: 0;left: 50%;z-index: 0;}#sk-container-id-1 div.sk-serial {display: flex;flex-direction: column;align-items: center;background-color: white;padding-right: 0.2em;padding-left: 0.2em;position: relative;}#sk-container-id-1 div.sk-item {position: relative;z-index: 1;}#sk-container-id-1 div.sk-parallel {display: flex;align-items: stretch;justify-content: center;background-color: white;position: relative;}#sk-container-id-1 div.sk-item::before, #sk-container-id-1 div.sk-parallel-item::before {content: \"\";position: absolute;border-left: 1px solid gray;box-sizing: border-box;top: 0;bottom: 0;left: 50%;z-index: -1;}#sk-container-id-1 div.sk-parallel-item {display: flex;flex-direction: column;z-index: 1;position: relative;background-color: white;}#sk-container-id-1 div.sk-parallel-item:first-child::after {align-self: flex-end;width: 50%;}#sk-container-id-1 div.sk-parallel-item:last-child::after {align-self: flex-start;width: 50%;}#sk-container-id-1 div.sk-parallel-item:only-child::after {width: 0;}#sk-container-id-1 div.sk-dashed-wrapped {border: 1px dashed gray;margin: 0 0.4em 0.5em 0.4em;box-sizing: border-box;padding-bottom: 0.4em;background-color: white;}#sk-container-id-1 div.sk-label label {font-family: monospace;font-weight: bold;display: inline-block;line-height: 1.2em;}#sk-container-id-1 div.sk-label-container {text-align: center;}#sk-container-id-1 div.sk-container {/* jupyter's `normalize.less` sets `[hidden] { display: none; }` but bootstrap.min.css set `[hidden] { display: none !important; }` so we also need the `!important` here to be able to override the default hidden behavior on the sphinx rendered scikit-learn.org. See: https://github.com/scikit-learn/scikit-learn/issues/21755 */display: inline-block !important;position: relative;}#sk-container-id-1 div.sk-text-repr-fallback {display: none;}</style><div id=\"sk-container-id-1\" class=\"sk-top-container\"><div class=\"sk-text-repr-fallback\"><pre>LinearRegression()</pre><b>In a Jupyter environment, please rerun this cell to show the HTML representation or trust the notebook. <br />On GitHub, the HTML representation is unable to render, please try loading this page with nbviewer.org.</b></div><div class=\"sk-container\" hidden><div class=\"sk-item\"><div class=\"sk-estimator sk-toggleable\"><input class=\"sk-toggleable__control sk-hidden--visually\" id=\"sk-estimator-id-1\" type=\"checkbox\" checked><label for=\"sk-estimator-id-1\" class=\"sk-toggleable__label sk-toggleable__label-arrow\">LinearRegression</label><div class=\"sk-toggleable__content\"><pre>LinearRegression()</pre></div></div></div></div></div>"
      ],
      "text/plain": [
       "LinearRegression()"
      ]
     },
     "execution_count": 35,
     "metadata": {},
     "output_type": "execute_result"
    }
   ],
   "source": [
    "lr.fit(X_train,y_train)"
   ]
  },
  {
   "cell_type": "code",
   "execution_count": 36,
   "id": "c3d82bda",
   "metadata": {},
   "outputs": [
    {
     "name": "stdout",
     "output_type": "stream",
     "text": [
      "Number of NaN values in X_test: 0\n"
     ]
    }
   ],
   "source": [
    "import numpy as np\n",
    "\n",
    "# Check for NaN values in X_test\n",
    "nan_indices = np.isnan(y_test)\n",
    "nan_count = np.sum(nan_indices)\n",
    "\n",
    "print(\"Number of NaN values in X_test:\", nan_count)\n"
   ]
  },
  {
   "cell_type": "code",
   "execution_count": 37,
   "id": "4bc2783b",
   "metadata": {},
   "outputs": [],
   "source": [
    "import numpy as np\n",
    "\n",
    "# Finding indices of NaN values in X_test\n",
    "nan_indices = np.isnan(X_test)\n",
    "\n",
    "# Get the indices of rows containing NaN\n",
    "rows_with_nan = np.any(nan_indices, axis=1)\n",
    "\n",
    "# Drop rows with NaN values from X_test\n",
    "X_test_no_nan = X_test[~rows_with_nan]\n",
    "\n",
    "# Now, X_test_no_nan doesn't have rows with NaN values\n"
   ]
  },
  {
   "cell_type": "code",
   "execution_count": 38,
   "id": "4eedcb3a",
   "metadata": {},
   "outputs": [],
   "source": [
    "from sklearn.impute import SimpleImputer\n",
    "\n",
    "# Create an imputer with mean strategy\n",
    "imputer = SimpleImputer(strategy='mean')\n",
    "\n",
    "# Fit and transform X_test using the imputer\n",
    "X_test = imputer.fit_transform(X_test)\n"
   ]
  },
  {
   "cell_type": "code",
   "execution_count": 39,
   "id": "e9d9dfb9",
   "metadata": {},
   "outputs": [
    {
     "name": "stdout",
     "output_type": "stream",
     "text": [
      "Number of infinity values in X_test: 0\n"
     ]
    }
   ],
   "source": [
    "# Check for infinity values in X_test\n",
    "infinity_indices = np.isinf(X_test)\n",
    "infinity_count = np.sum(infinity_indices)\n",
    "\n",
    "print(\"Number of infinity values in X_test:\", infinity_count)\n"
   ]
  },
  {
   "cell_type": "code",
   "execution_count": 40,
   "id": "5d4bcb52",
   "metadata": {},
   "outputs": [
    {
     "name": "stdout",
     "output_type": "stream",
     "text": [
      "float64\n"
     ]
    }
   ],
   "source": [
    "# Check data types of elements in X_test\n",
    "print(X_test.dtype)\n"
   ]
  },
  {
   "cell_type": "code",
   "execution_count": 41,
   "id": "0644d125",
   "metadata": {},
   "outputs": [
    {
     "name": "stdout",
     "output_type": "stream",
     "text": [
      "Number of NaN values in y: 0\n",
      "Number of infinity values in y: 0\n"
     ]
    }
   ],
   "source": [
    "print(\"Number of NaN values in y:\", np.isnan(y).sum())\n",
    "print(\"Number of infinity values in y:\", np.isinf(y).sum())\n"
   ]
  },
  {
   "cell_type": "code",
   "execution_count": 42,
   "id": "2d1c504a",
   "metadata": {},
   "outputs": [
    {
     "data": {
      "text/plain": [
       "array([[  210.        ,    50.33008052,    50.49962555],\n",
       "       [  190.        ,    50.01804247,    50.89080734],\n",
       "       [   14.        ,    51.91485568,    52.56210833],\n",
       "       [  223.        ,    50.34852907,    50.21438443],\n",
       "       [  241.        ,    50.02769166,    50.37954328],\n",
       "       [  138.        ,    52.92630032,    53.7170301 ],\n",
       "       [  232.        ,    50.11873797,    49.51693236],\n",
       "       [  208.        ,    48.21233361,    47.86767411],\n",
       "       [   54.        ,    50.09712852,    50.34415676],\n",
       "       [  110.        ,    50.45020898,    50.84443949],\n",
       "       [  292.        ,    47.89683424,    47.93029672],\n",
       "       [   17.        ,    53.67721567,    54.56473253],\n",
       "       [  186.        ,    46.53801722,    45.48846985],\n",
       "       [  250.        ,    50.38452744,    50.41785425],\n",
       "       [   24.        ,    52.61549009,    52.91785483],\n",
       "       [   76.        ,    49.9767281 ,    49.61367867],\n",
       "       [  272.        ,    48.69950802,    48.56989435],\n",
       "       [   92.        ,    50.52829874,    50.10021004],\n",
       "       [  231.        ,    49.7806419 ,    49.92587203],\n",
       "       [  166.        ,    50.59609619,    50.74739302],\n",
       "       [  192.        ,    50.76321142,    51.00594706],\n",
       "       [  105.        ,    50.99480629,    51.14190821],\n",
       "       [  126.        ,    49.83694484,    49.13072238],\n",
       "       [  131.        ,    49.49186641,    49.41794255],\n",
       "       [  224.        ,    49.58348665,    49.47366505],\n",
       "       [  118.        ,    52.11257076,    52.7697551 ],\n",
       "       [  196.        ,    50.48623277,    50.47626158],\n",
       "       [  288.        ,    47.91238922,    46.72346372],\n",
       "       [  236.        ,    49.45272059,    50.26695789],\n",
       "       [  297.        ,    48.81413009,    48.70914469],\n",
       "       [   94.        ,    54.00208401,    56.11795947],\n",
       "       [   68.        ,    51.85703935,    52.85766148],\n",
       "       [   10.        ,    51.68054778,    52.12163106],\n",
       "       [  124.        ,    48.52900217,    48.21668159],\n",
       "       [  221.        ,    50.0998564 ,    50.60973584],\n",
       "       [  152.        ,    49.19690031,    48.77680186],\n",
       "       [  178.        ,    47.53420463,    47.0969838 ],\n",
       "       [  184.        ,    50.74611871,    51.43203091],\n",
       "       [  301.        ,    48.10165188,    48.3327781 ],\n",
       "       [    7.        ,    51.11387454,    50.88489274],\n",
       "       [  225.        ,    51.30444152,    52.34105962],\n",
       "       [   91.        ,    52.40679976,    52.11154199],\n",
       "       [   83.        ,    51.74125994,    53.31325079],\n",
       "       [   36.        ,    53.48724165,    54.38932714],\n",
       "       [   57.        ,    51.46550166,    52.51726159],\n",
       "       [  141.        ,    50.8958333 ,    51.0345604 ],\n",
       "       [  238.        ,    52.35900809,    53.40389707],\n",
       "       [   66.        ,    52.0088819 ,    53.22131763],\n",
       "       [    9.        ,    53.98373341,    54.47396146],\n",
       "       [   47.        ,    50.59160659,    50.74945385],\n",
       "       [   75.        ,    51.91678384,    52.13610056],\n",
       "       [  215.        ,  -971.91521074, -1722.09444283],\n",
       "       [  175.        ,    51.32704372,    51.93963317],\n",
       "       [  108.        ,    53.55983707,    54.74826764],\n",
       "       [   61.        ,    51.78786403,    52.87231297],\n",
       "       [  255.        ,    47.23910391,    46.9376956 ],\n",
       "       [  170.        ,    51.66735199,    51.92622789],\n",
       "       [   28.        ,    52.17191021,    52.44664848],\n",
       "       [  286.        ,    45.84825776,    44.99922994],\n",
       "       [  155.        ,    49.90736074,    49.81505838]])"
      ]
     },
     "execution_count": 42,
     "metadata": {},
     "output_type": "execute_result"
    }
   ],
   "source": [
    "y_pred = lr.predict(X_test)\n",
    "y_pred"
   ]
  },
  {
   "cell_type": "code",
   "execution_count": 43,
   "id": "ed2626c3",
   "metadata": {},
   "outputs": [
    {
     "data": {
      "text/plain": [
       "array([[ 2.10000000e+02,  6.70000000e+01,  6.84882075e+01],\n",
       "       [ 1.90000000e+02,  2.70000000e+01,  3.04941293e+01],\n",
       "       [ 1.40000000e+01,  9.60000000e+01,  9.51490718e+01],\n",
       "       [ 2.23000000e+02,  1.00000000e+02,  1.03526616e+02],\n",
       "       [ 2.41000000e+02,  2.80000000e+01,  2.81566854e+01],\n",
       "       [ 1.38000000e+02,  6.50000000e+01,  6.89469977e+01],\n",
       "       [ 2.32000000e+02,  3.70000000e+01,  4.00070960e+01],\n",
       "       [ 2.08000000e+02,  4.00000000e+01,  4.80984313e+01],\n",
       "       [ 5.40000000e+01,  5.20000000e+01,  5.40817063e+01],\n",
       "       [ 1.10000000e+02,  8.90000000e+01,  8.74572156e+01],\n",
       "       [ 2.92000000e+02,  9.20000000e+01,  9.13086367e+01],\n",
       "       [ 1.70000000e+01,  1.50000000e+01,  1.48224859e+01],\n",
       "       [ 1.86000000e+02,  3.70000000e+01,  3.41247325e+01],\n",
       "       [ 2.50000000e+02,  9.00000000e+01,  8.98999910e+01],\n",
       "       [ 2.40000000e+01,  8.90000000e+01,  8.98263444e+01],\n",
       "       [ 7.60000000e+01,  1.50000000e+01,  1.32569065e+01],\n",
       "       [ 2.72000000e+02,  5.50000000e+01,  5.58162851e+01],\n",
       "       [ 9.20000000e+01,  6.70000000e+01,  6.70215061e+01],\n",
       "       [ 2.31000000e+02,  1.40000000e+01,  1.24262461e+01],\n",
       "       [ 1.66000000e+02,  4.90000000e+01,  5.22862061e+01],\n",
       "       [ 1.92000000e+02,  9.20000000e+01,  8.97315361e+01],\n",
       "       [ 1.05000000e+02,  7.40000000e+01,  7.56929855e+01],\n",
       "       [ 1.26000000e+02,  4.10000000e+01,  4.54459959e+01],\n",
       "       [ 1.31000000e+02,  2.90000000e+01,  2.64948796e+01],\n",
       "       [ 2.24000000e+02,  4.80000000e+01,  4.74100672e+01],\n",
       "       [ 1.18000000e+02,  1.70000000e+01,  1.34131076e+01],\n",
       "       [ 1.96000000e+02,  6.10000000e+01,  6.00713750e+01],\n",
       "       [ 2.88000000e+02,  1.60000000e+01,  1.67492394e+01],\n",
       "       [ 2.36000000e+02,  6.50000000e+01,  6.66149964e+01],\n",
       "       [ 2.97000000e+02,  7.10000000e+01,  6.85458879e+01],\n",
       "       [ 9.40000000e+01,  6.30000000e+01,  5.86146689e+01],\n",
       "       [ 6.80000000e+01,  4.10000000e+01,  3.86888868e+01],\n",
       "       [ 1.00000000e+01,  2.00000000e+01,  1.83951275e+01],\n",
       "       [ 1.24000000e+02,  9.80000000e+01,  9.55801718e+01],\n",
       "       [ 2.21000000e+02,  4.00000000e+00,  7.64652976e+00],\n",
       "       [ 1.52000000e+02,  6.00000000e+01,  5.98313966e+01],\n",
       "       [ 1.78000000e+02,  5.80000000e+01,  5.74874144e+01],\n",
       "       [ 1.84000000e+02,  9.30000000e+01,  9.94357788e+01],\n",
       "       [ 3.01000000e+02,  4.70000000e+01,  5.24594669e+01],\n",
       "       [ 7.00000000e+00,  1.50000000e+01,  9.80523488e+00],\n",
       "       [ 2.25000000e+02,  4.20000000e+01,  4.20383577e+01],\n",
       "       [ 9.10000000e+01,  4.30000000e+01,  4.86725264e+01],\n",
       "       [ 8.30000000e+01,  2.70000000e+01,  2.34447916e+01],\n",
       "       [ 3.60000000e+01,  2.80000000e+01,  3.30711283e+01],\n",
       "       [ 5.70000000e+01,  0.00000000e+00, -1.04011421e+00],\n",
       "       [ 1.41000000e+02,  5.30000000e+01,  6.02075835e+01],\n",
       "       [ 2.38000000e+02,  5.60000000e+01,  5.71910351e+01],\n",
       "       [ 6.60000000e+01,  8.20000000e+01,  8.54550416e+01],\n",
       "       [ 9.00000000e+00,  9.50000000e+01,  9.76179370e+01],\n",
       "       [ 4.70000000e+01,  3.70000000e+01,  3.61133478e+01],\n",
       "       [ 7.50000000e+01,  5.30000000e+01,  5.01700862e+01],\n",
       "       [ 2.15000000e+02,  4.40000000e+01,  4.59639688e+01],\n",
       "       [ 1.75000000e+02,  5.60000000e+01,  5.45544698e+01],\n",
       "       [ 1.08000000e+02,  1.00000000e+00,  2.75307261e-01],\n",
       "       [ 6.10000000e+01,  5.70000000e+01,  5.61483411e+01],\n",
       "       [ 2.55000000e+02,  6.00000000e+01,  6.01113496e+01],\n",
       "       [ 1.70000000e+02,  2.10000000e+01,  1.89832231e+01],\n",
       "       [ 2.80000000e+01,  7.90000000e+01,  7.83105654e+01],\n",
       "       [ 2.86000000e+02,  5.90000000e+01,  6.09179271e+01],\n",
       "       [ 1.55000000e+02,  8.40000000e+01,  8.51865727e+01]])"
      ]
     },
     "execution_count": 43,
     "metadata": {},
     "output_type": "execute_result"
    }
   ],
   "source": [
    "y_test"
   ]
  },
  {
   "cell_type": "code",
   "execution_count": 44,
   "id": "075849d0",
   "metadata": {},
   "outputs": [
    {
     "name": "stdout",
     "output_type": "stream",
     "text": [
      "Training Score: 0.3366900813389682\n"
     ]
    }
   ],
   "source": [
    "print('Training Score:',lr.score(X_train,y_train))"
   ]
  },
  {
   "cell_type": "code",
   "execution_count": 45,
   "id": "f6d7d451",
   "metadata": {},
   "outputs": [
    {
     "name": "stdout",
     "output_type": "stream",
     "text": [
      "Testing score: -30.313999310179387\n"
     ]
    }
   ],
   "source": [
    "print('Testing score:',lr.score(X_test,y_test))"
   ]
  },
  {
   "cell_type": "code",
   "execution_count": null,
   "id": "9cb0052d",
   "metadata": {},
   "outputs": [],
   "source": []
  }
 ],
 "metadata": {
  "kernelspec": {
   "display_name": "Python 3 (ipykernel)",
   "language": "python",
   "name": "python3"
  },
  "language_info": {
   "codemirror_mode": {
    "name": "ipython",
    "version": 3
   },
   "file_extension": ".py",
   "mimetype": "text/x-python",
   "name": "python",
   "nbconvert_exporter": "python",
   "pygments_lexer": "ipython3",
   "version": "3.9.12"
  }
 },
 "nbformat": 4,
 "nbformat_minor": 5
}
